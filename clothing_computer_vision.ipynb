{
  "nbformat": 4,
  "nbformat_minor": 0,
  "metadata": {
    "colab": {
      "provenance": [],
      "include_colab_link": true
    },
    "kernelspec": {
      "name": "python3",
      "display_name": "Python 3"
    },
    "language_info": {
      "name": "python"
    }
  },
  "cells": [
    {
      "cell_type": "markdown",
      "metadata": {
        "id": "view-in-github",
        "colab_type": "text"
      },
      "source": [
        "<a href=\"https://colab.research.google.com/github/leonardodarrainrocha/clothing-classification-pytorch-vision/blob/main/clothing_computer_vision.ipynb\" target=\"_parent\"><img src=\"https://colab.research.google.com/assets/colab-badge.svg\" alt=\"Open In Colab\"/></a>"
      ]
    },
    {
      "cell_type": "markdown",
      "source": [
        "# PyTorch Computer Vision"
      ],
      "metadata": {
        "id": "fyGqR1eoWgOs"
      }
    },
    {
      "cell_type": "markdown",
      "source": [
        "### Imports"
      ],
      "metadata": {
        "id": "Fo5qjx9NW00m"
      }
    },
    {
      "cell_type": "code",
      "execution_count": null,
      "metadata": {
        "colab": {
          "base_uri": "https://localhost:8080/"
        },
        "id": "1obQIkx50eJ2",
        "outputId": "8d0df8f1-3068-4ec9-b2f0-80105accd553"
      },
      "outputs": [
        {
          "output_type": "stream",
          "name": "stdout",
          "text": [
            "2.6.0+cu124\n",
            "0.21.0+cu124\n"
          ]
        }
      ],
      "source": [
        "import torch\n",
        "from torch import nn\n",
        "\n",
        "import torchvision\n",
        "from torchvision import datasets\n",
        "from torchvision import transforms\n",
        "from torchvision.transforms import ToTensor\n",
        "\n",
        "import matplotlib.pyplot as plt\n",
        "\n",
        "from torch.utils.data import DataLoader\n",
        "\n",
        "print(torch.__version__)\n",
        "print(torchvision.__version__)"
      ]
    },
    {
      "cell_type": "markdown",
      "source": [
        "### Data"
      ],
      "metadata": {
        "id": "TSgBf6_DfuOZ"
      }
    },
    {
      "cell_type": "code",
      "source": [
        "train_data = datasets.FashionMNIST(\n",
        "    root=\"data\",\n",
        "    train=True,\n",
        "    download=True,\n",
        "    transform=ToTensor(),\n",
        "    target_transform=None\n",
        ")\n",
        "\n",
        "test_data = datasets.FashionMNIST(\n",
        "    root=\"data\",\n",
        "    train=False,\n",
        "    download=True,\n",
        "    transform=ToTensor(),\n",
        "    target_transform=None\n",
        ")"
      ],
      "metadata": {
        "colab": {
          "base_uri": "https://localhost:8080/"
        },
        "id": "SJoeKemWfeMZ",
        "outputId": "61cc1540-7bda-4468-8cbc-0cc6cde5c8b2"
      },
      "execution_count": null,
      "outputs": [
        {
          "output_type": "stream",
          "name": "stderr",
          "text": [
            "100%|██████████| 26.4M/26.4M [00:02<00:00, 11.5MB/s]\n",
            "100%|██████████| 29.5k/29.5k [00:00<00:00, 208kB/s]\n",
            "100%|██████████| 4.42M/4.42M [00:01<00:00, 3.87MB/s]\n",
            "100%|██████████| 5.15k/5.15k [00:00<00:00, 7.28MB/s]\n"
          ]
        }
      ]
    },
    {
      "cell_type": "code",
      "source": [
        "len(train_data), len(test_data)"
      ],
      "metadata": {
        "colab": {
          "base_uri": "https://localhost:8080/"
        },
        "id": "VsxO5YsNiApV",
        "outputId": "64207448-9682-4361-887e-de38e3ecc493"
      },
      "execution_count": null,
      "outputs": [
        {
          "output_type": "execute_result",
          "data": {
            "text/plain": [
              "(60000, 10000)"
            ]
          },
          "metadata": {},
          "execution_count": 3
        }
      ]
    },
    {
      "cell_type": "code",
      "source": [
        "train_data"
      ],
      "metadata": {
        "colab": {
          "base_uri": "https://localhost:8080/"
        },
        "id": "HrB6j0wqqg6d",
        "outputId": "0431e834-a6de-4d54-ddba-dcf6828eaa5e"
      },
      "execution_count": null,
      "outputs": [
        {
          "output_type": "execute_result",
          "data": {
            "text/plain": [
              "Dataset FashionMNIST\n",
              "    Number of datapoints: 60000\n",
              "    Root location: data\n",
              "    Split: Train\n",
              "    StandardTransform\n",
              "Transform: ToTensor()"
            ]
          },
          "metadata": {},
          "execution_count": 4
        }
      ]
    },
    {
      "cell_type": "code",
      "source": [
        "image, label = train_data[0]\n",
        "label, image"
      ],
      "metadata": {
        "colab": {
          "base_uri": "https://localhost:8080/"
        },
        "id": "flLmC_tJiPnT",
        "outputId": "512a8f75-3991-4633-c55f-5a3cbf3f3870"
      },
      "execution_count": null,
      "outputs": [
        {
          "output_type": "execute_result",
          "data": {
            "text/plain": [
              "(9,\n",
              " tensor([[[0.0000, 0.0000, 0.0000, 0.0000, 0.0000, 0.0000, 0.0000, 0.0000,\n",
              "           0.0000, 0.0000, 0.0000, 0.0000, 0.0000, 0.0000, 0.0000, 0.0000,\n",
              "           0.0000, 0.0000, 0.0000, 0.0000, 0.0000, 0.0000, 0.0000, 0.0000,\n",
              "           0.0000, 0.0000, 0.0000, 0.0000],\n",
              "          [0.0000, 0.0000, 0.0000, 0.0000, 0.0000, 0.0000, 0.0000, 0.0000,\n",
              "           0.0000, 0.0000, 0.0000, 0.0000, 0.0000, 0.0000, 0.0000, 0.0000,\n",
              "           0.0000, 0.0000, 0.0000, 0.0000, 0.0000, 0.0000, 0.0000, 0.0000,\n",
              "           0.0000, 0.0000, 0.0000, 0.0000],\n",
              "          [0.0000, 0.0000, 0.0000, 0.0000, 0.0000, 0.0000, 0.0000, 0.0000,\n",
              "           0.0000, 0.0000, 0.0000, 0.0000, 0.0000, 0.0000, 0.0000, 0.0000,\n",
              "           0.0000, 0.0000, 0.0000, 0.0000, 0.0000, 0.0000, 0.0000, 0.0000,\n",
              "           0.0000, 0.0000, 0.0000, 0.0000],\n",
              "          [0.0000, 0.0000, 0.0000, 0.0000, 0.0000, 0.0000, 0.0000, 0.0000,\n",
              "           0.0000, 0.0000, 0.0000, 0.0000, 0.0039, 0.0000, 0.0000, 0.0510,\n",
              "           0.2863, 0.0000, 0.0000, 0.0039, 0.0157, 0.0000, 0.0000, 0.0000,\n",
              "           0.0000, 0.0039, 0.0039, 0.0000],\n",
              "          [0.0000, 0.0000, 0.0000, 0.0000, 0.0000, 0.0000, 0.0000, 0.0000,\n",
              "           0.0000, 0.0000, 0.0000, 0.0000, 0.0118, 0.0000, 0.1412, 0.5333,\n",
              "           0.4980, 0.2431, 0.2118, 0.0000, 0.0000, 0.0000, 0.0039, 0.0118,\n",
              "           0.0157, 0.0000, 0.0000, 0.0118],\n",
              "          [0.0000, 0.0000, 0.0000, 0.0000, 0.0000, 0.0000, 0.0000, 0.0000,\n",
              "           0.0000, 0.0000, 0.0000, 0.0000, 0.0235, 0.0000, 0.4000, 0.8000,\n",
              "           0.6902, 0.5255, 0.5647, 0.4824, 0.0902, 0.0000, 0.0000, 0.0000,\n",
              "           0.0000, 0.0471, 0.0392, 0.0000],\n",
              "          [0.0000, 0.0000, 0.0000, 0.0000, 0.0000, 0.0000, 0.0000, 0.0000,\n",
              "           0.0000, 0.0000, 0.0000, 0.0000, 0.0000, 0.0000, 0.6078, 0.9255,\n",
              "           0.8118, 0.6980, 0.4196, 0.6118, 0.6314, 0.4275, 0.2510, 0.0902,\n",
              "           0.3020, 0.5098, 0.2824, 0.0588],\n",
              "          [0.0000, 0.0000, 0.0000, 0.0000, 0.0000, 0.0000, 0.0000, 0.0000,\n",
              "           0.0000, 0.0000, 0.0000, 0.0039, 0.0000, 0.2706, 0.8118, 0.8745,\n",
              "           0.8549, 0.8471, 0.8471, 0.6392, 0.4980, 0.4745, 0.4784, 0.5725,\n",
              "           0.5529, 0.3451, 0.6745, 0.2588],\n",
              "          [0.0000, 0.0000, 0.0000, 0.0000, 0.0000, 0.0000, 0.0000, 0.0000,\n",
              "           0.0000, 0.0039, 0.0039, 0.0039, 0.0000, 0.7843, 0.9098, 0.9098,\n",
              "           0.9137, 0.8980, 0.8745, 0.8745, 0.8431, 0.8353, 0.6431, 0.4980,\n",
              "           0.4824, 0.7686, 0.8980, 0.0000],\n",
              "          [0.0000, 0.0000, 0.0000, 0.0000, 0.0000, 0.0000, 0.0000, 0.0000,\n",
              "           0.0000, 0.0000, 0.0000, 0.0000, 0.0000, 0.7176, 0.8824, 0.8471,\n",
              "           0.8745, 0.8941, 0.9216, 0.8902, 0.8784, 0.8706, 0.8784, 0.8667,\n",
              "           0.8745, 0.9608, 0.6784, 0.0000],\n",
              "          [0.0000, 0.0000, 0.0000, 0.0000, 0.0000, 0.0000, 0.0000, 0.0000,\n",
              "           0.0000, 0.0000, 0.0000, 0.0000, 0.0000, 0.7569, 0.8941, 0.8549,\n",
              "           0.8353, 0.7765, 0.7059, 0.8314, 0.8235, 0.8275, 0.8353, 0.8745,\n",
              "           0.8627, 0.9529, 0.7922, 0.0000],\n",
              "          [0.0000, 0.0000, 0.0000, 0.0000, 0.0000, 0.0000, 0.0000, 0.0000,\n",
              "           0.0000, 0.0039, 0.0118, 0.0000, 0.0471, 0.8588, 0.8627, 0.8314,\n",
              "           0.8549, 0.7529, 0.6627, 0.8902, 0.8157, 0.8549, 0.8784, 0.8314,\n",
              "           0.8863, 0.7725, 0.8196, 0.2039],\n",
              "          [0.0000, 0.0000, 0.0000, 0.0000, 0.0000, 0.0000, 0.0000, 0.0000,\n",
              "           0.0000, 0.0000, 0.0235, 0.0000, 0.3882, 0.9569, 0.8706, 0.8627,\n",
              "           0.8549, 0.7961, 0.7765, 0.8667, 0.8431, 0.8353, 0.8706, 0.8627,\n",
              "           0.9608, 0.4667, 0.6549, 0.2196],\n",
              "          [0.0000, 0.0000, 0.0000, 0.0000, 0.0000, 0.0000, 0.0000, 0.0000,\n",
              "           0.0000, 0.0157, 0.0000, 0.0000, 0.2157, 0.9255, 0.8941, 0.9020,\n",
              "           0.8941, 0.9412, 0.9098, 0.8353, 0.8549, 0.8745, 0.9176, 0.8510,\n",
              "           0.8510, 0.8196, 0.3608, 0.0000],\n",
              "          [0.0000, 0.0000, 0.0039, 0.0157, 0.0235, 0.0275, 0.0078, 0.0000,\n",
              "           0.0000, 0.0000, 0.0000, 0.0000, 0.9294, 0.8863, 0.8510, 0.8745,\n",
              "           0.8706, 0.8588, 0.8706, 0.8667, 0.8471, 0.8745, 0.8980, 0.8431,\n",
              "           0.8549, 1.0000, 0.3020, 0.0000],\n",
              "          [0.0000, 0.0118, 0.0000, 0.0000, 0.0000, 0.0000, 0.0000, 0.0000,\n",
              "           0.0000, 0.2431, 0.5686, 0.8000, 0.8941, 0.8118, 0.8353, 0.8667,\n",
              "           0.8549, 0.8157, 0.8275, 0.8549, 0.8784, 0.8745, 0.8588, 0.8431,\n",
              "           0.8784, 0.9569, 0.6235, 0.0000],\n",
              "          [0.0000, 0.0000, 0.0000, 0.0000, 0.0706, 0.1725, 0.3216, 0.4196,\n",
              "           0.7412, 0.8941, 0.8627, 0.8706, 0.8510, 0.8863, 0.7843, 0.8039,\n",
              "           0.8275, 0.9020, 0.8784, 0.9176, 0.6902, 0.7373, 0.9804, 0.9725,\n",
              "           0.9137, 0.9333, 0.8431, 0.0000],\n",
              "          [0.0000, 0.2235, 0.7333, 0.8157, 0.8784, 0.8667, 0.8784, 0.8157,\n",
              "           0.8000, 0.8392, 0.8157, 0.8196, 0.7843, 0.6235, 0.9608, 0.7569,\n",
              "           0.8078, 0.8745, 1.0000, 1.0000, 0.8667, 0.9176, 0.8667, 0.8275,\n",
              "           0.8627, 0.9098, 0.9647, 0.0000],\n",
              "          [0.0118, 0.7922, 0.8941, 0.8784, 0.8667, 0.8275, 0.8275, 0.8392,\n",
              "           0.8039, 0.8039, 0.8039, 0.8627, 0.9412, 0.3137, 0.5882, 1.0000,\n",
              "           0.8980, 0.8667, 0.7373, 0.6039, 0.7490, 0.8235, 0.8000, 0.8196,\n",
              "           0.8706, 0.8941, 0.8824, 0.0000],\n",
              "          [0.3843, 0.9137, 0.7765, 0.8235, 0.8706, 0.8980, 0.8980, 0.9176,\n",
              "           0.9765, 0.8627, 0.7608, 0.8431, 0.8510, 0.9451, 0.2549, 0.2863,\n",
              "           0.4157, 0.4588, 0.6588, 0.8588, 0.8667, 0.8431, 0.8510, 0.8745,\n",
              "           0.8745, 0.8784, 0.8980, 0.1137],\n",
              "          [0.2941, 0.8000, 0.8314, 0.8000, 0.7569, 0.8039, 0.8275, 0.8824,\n",
              "           0.8471, 0.7255, 0.7725, 0.8078, 0.7765, 0.8353, 0.9412, 0.7647,\n",
              "           0.8902, 0.9608, 0.9373, 0.8745, 0.8549, 0.8314, 0.8196, 0.8706,\n",
              "           0.8627, 0.8667, 0.9020, 0.2627],\n",
              "          [0.1882, 0.7961, 0.7176, 0.7608, 0.8353, 0.7725, 0.7255, 0.7451,\n",
              "           0.7608, 0.7529, 0.7922, 0.8392, 0.8588, 0.8667, 0.8627, 0.9255,\n",
              "           0.8824, 0.8471, 0.7804, 0.8078, 0.7294, 0.7098, 0.6941, 0.6745,\n",
              "           0.7098, 0.8039, 0.8078, 0.4510],\n",
              "          [0.0000, 0.4784, 0.8588, 0.7569, 0.7020, 0.6706, 0.7176, 0.7686,\n",
              "           0.8000, 0.8235, 0.8353, 0.8118, 0.8275, 0.8235, 0.7843, 0.7686,\n",
              "           0.7608, 0.7490, 0.7647, 0.7490, 0.7765, 0.7529, 0.6902, 0.6118,\n",
              "           0.6549, 0.6941, 0.8235, 0.3608],\n",
              "          [0.0000, 0.0000, 0.2902, 0.7412, 0.8314, 0.7490, 0.6863, 0.6745,\n",
              "           0.6863, 0.7098, 0.7255, 0.7373, 0.7412, 0.7373, 0.7569, 0.7765,\n",
              "           0.8000, 0.8196, 0.8235, 0.8235, 0.8275, 0.7373, 0.7373, 0.7608,\n",
              "           0.7529, 0.8471, 0.6667, 0.0000],\n",
              "          [0.0078, 0.0000, 0.0000, 0.0000, 0.2588, 0.7843, 0.8706, 0.9294,\n",
              "           0.9373, 0.9490, 0.9647, 0.9529, 0.9569, 0.8667, 0.8627, 0.7569,\n",
              "           0.7490, 0.7020, 0.7137, 0.7137, 0.7098, 0.6902, 0.6510, 0.6588,\n",
              "           0.3882, 0.2275, 0.0000, 0.0000],\n",
              "          [0.0000, 0.0000, 0.0000, 0.0000, 0.0000, 0.0000, 0.0000, 0.1569,\n",
              "           0.2392, 0.1725, 0.2824, 0.1608, 0.1373, 0.0000, 0.0000, 0.0000,\n",
              "           0.0000, 0.0000, 0.0000, 0.0000, 0.0000, 0.0000, 0.0000, 0.0000,\n",
              "           0.0000, 0.0000, 0.0000, 0.0000],\n",
              "          [0.0000, 0.0000, 0.0000, 0.0000, 0.0000, 0.0000, 0.0000, 0.0000,\n",
              "           0.0000, 0.0000, 0.0000, 0.0000, 0.0000, 0.0000, 0.0000, 0.0000,\n",
              "           0.0000, 0.0000, 0.0000, 0.0000, 0.0000, 0.0000, 0.0000, 0.0000,\n",
              "           0.0000, 0.0000, 0.0000, 0.0000],\n",
              "          [0.0000, 0.0000, 0.0000, 0.0000, 0.0000, 0.0000, 0.0000, 0.0000,\n",
              "           0.0000, 0.0000, 0.0000, 0.0000, 0.0000, 0.0000, 0.0000, 0.0000,\n",
              "           0.0000, 0.0000, 0.0000, 0.0000, 0.0000, 0.0000, 0.0000, 0.0000,\n",
              "           0.0000, 0.0000, 0.0000, 0.0000]]]))"
            ]
          },
          "metadata": {},
          "execution_count": 5
        }
      ]
    },
    {
      "cell_type": "code",
      "source": [
        "class_names = train_data.classes\n",
        "class_names"
      ],
      "metadata": {
        "colab": {
          "base_uri": "https://localhost:8080/"
        },
        "id": "Rx-rlC4riZmM",
        "outputId": "0feefb1a-41f7-460b-d4cf-8bbfd4f90556"
      },
      "execution_count": null,
      "outputs": [
        {
          "output_type": "execute_result",
          "data": {
            "text/plain": [
              "['T-shirt/top',\n",
              " 'Trouser',\n",
              " 'Pullover',\n",
              " 'Dress',\n",
              " 'Coat',\n",
              " 'Sandal',\n",
              " 'Shirt',\n",
              " 'Sneaker',\n",
              " 'Bag',\n",
              " 'Ankle boot']"
            ]
          },
          "metadata": {},
          "execution_count": 6
        }
      ]
    },
    {
      "cell_type": "code",
      "source": [
        "class_to_idx = train_data.class_to_idx\n",
        "class_to_idx"
      ],
      "metadata": {
        "colab": {
          "base_uri": "https://localhost:8080/"
        },
        "id": "PJjmGraXjTOu",
        "outputId": "2fbd360b-864d-41cb-c3bc-0a5661ecc4e1"
      },
      "execution_count": null,
      "outputs": [
        {
          "output_type": "execute_result",
          "data": {
            "text/plain": [
              "{'T-shirt/top': 0,\n",
              " 'Trouser': 1,\n",
              " 'Pullover': 2,\n",
              " 'Dress': 3,\n",
              " 'Coat': 4,\n",
              " 'Sandal': 5,\n",
              " 'Shirt': 6,\n",
              " 'Sneaker': 7,\n",
              " 'Bag': 8,\n",
              " 'Ankle boot': 9}"
            ]
          },
          "metadata": {},
          "execution_count": 7
        }
      ]
    },
    {
      "cell_type": "code",
      "source": [
        "image.shape, label"
      ],
      "metadata": {
        "colab": {
          "base_uri": "https://localhost:8080/"
        },
        "id": "QlRXf-v8jhjV",
        "outputId": "b65869be-72dd-4648-cc35-71e488075cd2"
      },
      "execution_count": null,
      "outputs": [
        {
          "output_type": "execute_result",
          "data": {
            "text/plain": [
              "(torch.Size([1, 28, 28]), 9)"
            ]
          },
          "metadata": {},
          "execution_count": 8
        }
      ]
    },
    {
      "cell_type": "code",
      "source": [
        "plt.imshow(image.squeeze(), cmap=\"gray\")\n",
        "plt.title(f\"{class_names[label]} - {label}\")\n",
        "plt.axis(False)"
      ],
      "metadata": {
        "colab": {
          "base_uri": "https://localhost:8080/",
          "height": 445
        },
        "id": "Z2if15Ykj3Fe",
        "outputId": "ceac9b6b-a599-4b59-bded-ec1d3a21bde3"
      },
      "execution_count": null,
      "outputs": [
        {
          "output_type": "execute_result",
          "data": {
            "text/plain": [
              "(np.float64(-0.5), np.float64(27.5), np.float64(27.5), np.float64(-0.5))"
            ]
          },
          "metadata": {},
          "execution_count": 9
        },
        {
          "output_type": "display_data",
          "data": {
            "text/plain": [
              "<Figure size 640x480 with 1 Axes>"
            ],
            "image/png": "[encoded data removed]"
          },
          "metadata": {}
        }
      ]
    },
    {
      "cell_type": "code",
      "source": [
        "torch.manual_seed(42)\n",
        "fig = plt.figure(figsize=(9,9))\n",
        "rows, cols = 4, 4\n",
        "for i in range(1, rows*cols+1):\n",
        "  random_idx = torch.randint(0, len(train_data), size=[1]).item()\n",
        "  img, label = train_data[random_idx]\n",
        "  fig.add_subplot(rows, cols, i)\n",
        "  plt.imshow(img.squeeze(), cmap=\"gray\")\n",
        "  plt.title(class_names[label])\n",
        "  plt.axis(False)"
      ],
      "metadata": {
        "colab": {
          "base_uri": "https://localhost:8080/",
          "height": 752
        },
        "id": "Ze9uz_Tfj9JV",
        "outputId": "1085dc00-0b13-47de-eef0-da4391d4c775"
      },
      "execution_count": null,
      "outputs": [
        {
          "output_type": "display_data",
          "data": {
            "text/plain": [
              "<Figure size 900x900 with 16 Axes>"
            ],
            "image/png": "[encoded data removed]"
          },
          "metadata": {}
        }
      ]
    },
    {
      "cell_type": "code",
      "source": [
        "BATCH_SIZE = 32\n",
        "train_dataloader = DataLoader(dataset=train_data,\n",
        "                              batch_size=BATCH_SIZE,\n",
        "                              shuffle=True)\n",
        "test_dataloader = DataLoader(dataset=test_data,\n",
        "                              batch_size=BATCH_SIZE,\n",
        "                              shuffle=False)\n",
        "train_dataloader, test_dataloader"
      ],
      "metadata": {
        "colab": {
          "base_uri": "https://localhost:8080/"
        },
        "id": "-eQopSe-mp1t",
        "outputId": "d896ed00-e1b1-4fc7-99ef-e2dd1062eb44"
      },
      "execution_count": null,
      "outputs": [
        {
          "output_type": "execute_result",
          "data": {
            "text/plain": [
              "(<torch.utils.data.dataloader.DataLoader at 0x7a4f57fe09d0>,\n",
              " <torch.utils.data.dataloader.DataLoader at 0x7a4f57efe1d0>)"
            ]
          },
          "metadata": {},
          "execution_count": 11
        }
      ]
    },
    {
      "cell_type": "code",
      "source": [
        "len(train_dataloader)"
      ],
      "metadata": {
        "colab": {
          "base_uri": "https://localhost:8080/"
        },
        "id": "3Z_HYzz7sUQX",
        "outputId": "40e007f6-87e3-4bc4-9106-ded8d3b142b8"
      },
      "execution_count": null,
      "outputs": [
        {
          "output_type": "execute_result",
          "data": {
            "text/plain": [
              "1875"
            ]
          },
          "metadata": {},
          "execution_count": 12
        }
      ]
    },
    {
      "cell_type": "code",
      "source": [
        "train_features_batch, train_label_batch = next(iter(train_dataloader))\n",
        "next(iter(train_dataloader))[0].shape, train_label_batch.shape, next(iter(train_dataloader))[1].shape"
      ],
      "metadata": {
        "colab": {
          "base_uri": "https://localhost:8080/"
        },
        "id": "LaAg6oWUslAY",
        "outputId": "388825f1-d251-46d9-ffc0-32979d3f5ac5"
      },
      "execution_count": null,
      "outputs": [
        {
          "output_type": "execute_result",
          "data": {
            "text/plain": [
              "(torch.Size([32, 1, 28, 28]), torch.Size([32]), torch.Size([32]))"
            ]
          },
          "metadata": {},
          "execution_count": 13
        }
      ]
    },
    {
      "cell_type": "code",
      "source": [
        "next(iter(train_dataloader))[1]"
      ],
      "metadata": {
        "colab": {
          "base_uri": "https://localhost:8080/"
        },
        "id": "ke4-IFOPsqY8",
        "outputId": "ce59918c-4b09-4a80-9d3a-54b7e47964e1"
      },
      "execution_count": null,
      "outputs": [
        {
          "output_type": "execute_result",
          "data": {
            "text/plain": [
              "tensor([4, 3, 6, 5, 4, 6, 9, 7, 5, 9, 9, 2, 2, 6, 0, 9, 0, 6, 8, 9, 0, 5, 9, 5,\n",
              "        1, 9, 3, 6, 7, 5, 1, 4])"
            ]
          },
          "metadata": {},
          "execution_count": 14
        }
      ]
    },
    {
      "cell_type": "code",
      "source": [
        "img, label = next(iter(train_dataloader))\n",
        "random_num = torch.randint(0, len(label), (1,))\n",
        "plt.imshow(img[random_num].squeeze())\n",
        "plt.title(f\"{random_num.item()} - {class_names[label[random_num]]}\")"
      ],
      "metadata": {
        "colab": {
          "base_uri": "https://localhost:8080/",
          "height": 469
        },
        "id": "ga45oA1Ktn2f",
        "outputId": "d94502b1-a4e1-451b-db17-5202708b3370"
      },
      "execution_count": null,
      "outputs": [
        {
          "output_type": "execute_result",
          "data": {
            "text/plain": [
              "Text(0.5, 1.0, '11 - Coat')"
            ]
          },
          "metadata": {},
          "execution_count": 15
        },
        {
          "output_type": "display_data",
          "data": {
            "text/plain": [
              "<Figure size 640x480 with 1 Axes>"
            ],
            "image/png": "[encoded data removed]"
          },
          "metadata": {}
        }
      ]
    },
    {
      "cell_type": "markdown",
      "source": [
        "### Model 0 - Linear Model"
      ],
      "metadata": {
        "id": "srmU-ENp1HlM"
      }
    },
    {
      "cell_type": "code",
      "source": [
        "flatten_model = nn.Flatten()\n",
        "x = train_features_batch[0]\n",
        "output = flatten_model(x)\n",
        "x.shape, output.shape, output.squeeze().shape, output.squeeze().shape[0]"
      ],
      "metadata": {
        "colab": {
          "base_uri": "https://localhost:8080/"
        },
        "id": "m6q9IkYTxYFg",
        "outputId": "ed3e71a7-79b9-44a7-a5b3-825a7a519af6"
      },
      "execution_count": null,
      "outputs": [
        {
          "output_type": "execute_result",
          "data": {
            "text/plain": [
              "(torch.Size([1, 28, 28]), torch.Size([1, 784]), torch.Size([784]), 784)"
            ]
          },
          "metadata": {},
          "execution_count": 16
        }
      ]
    },
    {
      "cell_type": "code",
      "source": [
        "# We do not add a softmax end layer because of the CrossEntropyLoss function already use it internally\n",
        "class FashionMNISTModel(nn.Module):\n",
        "  def __init__(self,\n",
        "               input_shape: int,\n",
        "               hidden_units: int,\n",
        "               output_shape: int):\n",
        "    super().__init__()\n",
        "    self.layer_stack = nn.Sequential(\n",
        "        nn.Flatten(),\n",
        "        nn.Linear(input_shape, hidden_units),\n",
        "        nn.Linear(hidden_units, output_shape)\n",
        "    )\n",
        "\n",
        "  def forward(self,x):\n",
        "    return self.layer_stack(x)"
      ],
      "metadata": {
        "id": "9-pT-RWvugaO"
      },
      "execution_count": null,
      "outputs": []
    },
    {
      "cell_type": "code",
      "source": [
        "available_device = \"cuda\" if torch.cuda.is_available() else \"cpu\"\n",
        "available_device"
      ],
      "metadata": {
        "colab": {
          "base_uri": "https://localhost:8080/",
          "height": 35
        },
        "id": "Se9CAr0tCupg",
        "outputId": "7a13af17-5bc5-4702-beff-5c22c51c3609"
      },
      "execution_count": null,
      "outputs": [
        {
          "output_type": "execute_result",
          "data": {
            "text/plain": [
              "'cpu'"
            ],
            "application/vnd.google.colaboratory.intrinsic+json": {
              "type": "string"
            }
          },
          "metadata": {},
          "execution_count": 18
        }
      ]
    },
    {
      "cell_type": "code",
      "source": [
        "torch.manual_seed(42)\n",
        "model_untrained = FashionMNISTModel(output.squeeze().shape[0], 10, len(class_names)).to(available_device)\n",
        "model_0 = FashionMNISTModel(output.squeeze().shape[0], 10, len(class_names)).to(available_device)\n",
        "model_0"
      ],
      "metadata": {
        "colab": {
          "base_uri": "https://localhost:8080/"
        },
        "id": "AtUkTuXT6QSY",
        "outputId": "a839356d-c0d9-44e5-b552-a0192bba4c5b"
      },
      "execution_count": null,
      "outputs": [
        {
          "output_type": "execute_result",
          "data": {
            "text/plain": [
              "FashionMNISTModel(\n",
              "  (layer_stack): Sequential(\n",
              "    (0): Flatten(start_dim=1, end_dim=-1)\n",
              "    (1): Linear(in_features=784, out_features=10, bias=True)\n",
              "    (2): Linear(in_features=10, out_features=10, bias=True)\n",
              "  )\n",
              ")"
            ]
          },
          "metadata": {},
          "execution_count": 19
        }
      ]
    },
    {
      "cell_type": "code",
      "source": [
        "str(next(model_0.parameters()).device)"
      ],
      "metadata": {
        "colab": {
          "base_uri": "https://localhost:8080/",
          "height": 35
        },
        "id": "OnoGi1BtzrSu",
        "outputId": "c6d162c6-9918-4a87-8cf2-01011fd15172"
      },
      "execution_count": null,
      "outputs": [
        {
          "output_type": "execute_result",
          "data": {
            "text/plain": [
              "'cpu'"
            ],
            "application/vnd.google.colaboratory.intrinsic+json": {
              "type": "string"
            }
          },
          "metadata": {},
          "execution_count": 20
        }
      ]
    },
    {
      "cell_type": "code",
      "source": [
        "# untrained model composed by random weights and biases\n",
        "model_0.state_dict()"
      ],
      "metadata": {
        "colab": {
          "base_uri": "https://localhost:8080/"
        },
        "id": "f-8LqxqqAdtE",
        "outputId": "5d735903-b44b-4c01-ea5c-68606f713c4a"
      },
      "execution_count": null,
      "outputs": [
        {
          "output_type": "execute_result",
          "data": {
            "text/plain": [
              "OrderedDict([('layer_stack.1.weight',\n",
              "              tensor([[-0.0296,  0.0224, -0.0181,  ...,  0.0004,  0.0355, -0.0293],\n",
              "                      [-0.0290,  0.0062,  0.0239,  ...,  0.0027,  0.0102, -0.0129],\n",
              "                      [ 0.0235,  0.0318,  0.0348,  ..., -0.0150, -0.0323, -0.0270],\n",
              "                      ...,\n",
              "                      [ 0.0066, -0.0201,  0.0322,  ...,  0.0104, -0.0022,  0.0090],\n",
              "                      [ 0.0300,  0.0132,  0.0252,  ...,  0.0304,  0.0141, -0.0189],\n",
              "                      [-0.0134,  0.0170, -0.0218,  ..., -0.0105,  0.0029, -0.0044]])),\n",
              "             ('layer_stack.1.bias',\n",
              "              tensor([ 0.0155, -0.0296,  0.0081, -0.0277,  0.0282, -0.0141,  0.0073,  0.0024,\n",
              "                      -0.0142, -0.0048])),\n",
              "             ('layer_stack.2.weight',\n",
              "              tensor([[ 0.3008, -0.1599, -0.0822,  0.2084,  0.1857,  0.0875, -0.2767, -0.0510,\n",
              "                       -0.3116, -0.1563],\n",
              "                      [-0.0338, -0.1195,  0.1298,  0.0032,  0.0622,  0.0927,  0.0763, -0.3100,\n",
              "                        0.0638,  0.2602],\n",
              "                      [ 0.1067,  0.2270, -0.1712, -0.0803, -0.2885, -0.2888, -0.2384,  0.1616,\n",
              "                       -0.1860,  0.1061],\n",
              "                      [ 0.2190,  0.1129, -0.1325,  0.2020,  0.1160,  0.0717, -0.0793,  0.2512,\n",
              "                        0.1528, -0.0556],\n",
              "                      [ 0.1458, -0.2107, -0.0274, -0.2625, -0.2822,  0.2576,  0.1681, -0.1073,\n",
              "                       -0.1762, -0.1213],\n",
              "                      [-0.0752, -0.0538,  0.2708,  0.3027,  0.1651, -0.1769, -0.1115,  0.0394,\n",
              "                       -0.1883,  0.2829],\n",
              "                      [-0.1874,  0.2927, -0.0014,  0.2865,  0.2067,  0.0284,  0.3104,  0.0276,\n",
              "                        0.1214, -0.0816],\n",
              "                      [-0.2785, -0.1939, -0.2545,  0.2166,  0.1406,  0.0891,  0.2932, -0.2232,\n",
              "                        0.0890,  0.0136],\n",
              "                      [-0.2768, -0.3055,  0.3071,  0.2685,  0.0575, -0.2030,  0.0441,  0.2255,\n",
              "                       -0.0688,  0.0044],\n",
              "                      [-0.1555,  0.2390, -0.1927, -0.1777, -0.0812, -0.0100,  0.0797,  0.2461,\n",
              "                        0.1937,  0.0456]])),\n",
              "             ('layer_stack.2.bias',\n",
              "              tensor([ 0.0829,  0.2681, -0.0929, -0.1505,  0.2422,  0.2743, -0.0130, -0.0124,\n",
              "                       0.2400, -0.0590]))])"
            ]
          },
          "metadata": {},
          "execution_count": 21
        }
      ]
    },
    {
      "cell_type": "markdown",
      "source": [
        "### Model 0 - Linear Model - Try untrained model"
      ],
      "metadata": {
        "id": "egMKYRNnRFDz"
      }
    },
    {
      "cell_type": "code",
      "source": [
        "# create a random image to try the untrained model\n",
        "dummy_x = torch.rand([1, 1, 28, 28])\n",
        "plt.imshow(dummy_x.squeeze())"
      ],
      "metadata": {
        "colab": {
          "base_uri": "https://localhost:8080/",
          "height": 447
        },
        "id": "4Sv21hu864PB",
        "outputId": "64b551c5-78ba-4a76-bee3-b750d8fecac0"
      },
      "execution_count": null,
      "outputs": [
        {
          "output_type": "execute_result",
          "data": {
            "text/plain": [
              "<matplotlib.image.AxesImage at 0x7a4f57d2a810>"
            ]
          },
          "metadata": {},
          "execution_count": 22
        },
        {
          "output_type": "display_data",
          "data": {
            "text/plain": [
              "<Figure size 640x480 with 1 Axes>"
            ],
            "image/png": "[encoded data removed]"
          },
          "metadata": {}
        }
      ]
    },
    {
      "cell_type": "code",
      "source": [
        "with torch.inference_mode():\n",
        "  result = model_0(dummy_x)\n",
        "result"
      ],
      "metadata": {
        "colab": {
          "base_uri": "https://localhost:8080/"
        },
        "id": "tyXcKfdD9UHr",
        "outputId": "7cfc53a2-02d8-4a7c-fed6-7e47deb5cf01"
      },
      "execution_count": null,
      "outputs": [
        {
          "output_type": "execute_result",
          "data": {
            "text/plain": [
              "tensor([[ 0.0918, -0.1251,  0.2167,  0.0399,  0.0716,  0.1289,  0.0738, -0.0979,\n",
              "          0.1968,  0.2454]])"
            ]
          },
          "metadata": {},
          "execution_count": 23
        }
      ]
    },
    {
      "cell_type": "code",
      "source": [
        "normalized_probabilities = nn.functional.softmax(result, dim=1)\n",
        "normalized_probabilities"
      ],
      "metadata": {
        "colab": {
          "base_uri": "https://localhost:8080/"
        },
        "id": "t7nAzDDE-NTo",
        "outputId": "4148a38f-67af-4e52-cc55-4e2545afa925"
      },
      "execution_count": null,
      "outputs": [
        {
          "output_type": "execute_result",
          "data": {
            "text/plain": [
              "tensor([[0.1001, 0.0806, 0.1134, 0.0950, 0.0981, 0.1039, 0.0983, 0.0828, 0.1112,\n",
              "         0.1167]])"
            ]
          },
          "metadata": {},
          "execution_count": 24
        }
      ]
    },
    {
      "cell_type": "code",
      "source": [
        "print(f\"{class_names[torch.argmax(result)]} - {normalized_probabilities.squeeze()[torch.argmax(result)].item() * 100:.2f}%\")"
      ],
      "metadata": {
        "colab": {
          "base_uri": "https://localhost:8080/"
        },
        "id": "kIsZXABS8I7D",
        "outputId": "aadce1fa-e364-48c2-90d8-c980a52fa223"
      },
      "execution_count": null,
      "outputs": [
        {
          "output_type": "stream",
          "name": "stdout",
          "text": [
            "Ankle boot - 11.67%\n"
          ]
        }
      ]
    },
    {
      "cell_type": "code",
      "source": [
        "# try the untrained model with a random test image (it will fail or it will produce uncertain predictions)\n",
        "img, label = next(iter(test_dataloader))\n",
        "random_num = torch.randint(0, len(label), (1,))\n",
        "img_selected = img[random_num]\n",
        "plt.imshow(img[random_num].squeeze())\n",
        "plt.title(f\"{random_num.item()} - {class_names[label[random_num]]}\")"
      ],
      "metadata": {
        "colab": {
          "base_uri": "https://localhost:8080/",
          "height": 469
        },
        "id": "ojmDPcqa9Xx-",
        "outputId": "cf925f1d-ef0f-4cf6-df8f-a1a593587040"
      },
      "execution_count": null,
      "outputs": [
        {
          "output_type": "execute_result",
          "data": {
            "text/plain": [
              "Text(0.5, 1.0, '31 - Bag')"
            ]
          },
          "metadata": {},
          "execution_count": 26
        },
        {
          "output_type": "display_data",
          "data": {
            "text/plain": [
              "<Figure size 640x480 with 1 Axes>"
            ],
            "image/png": "[encoded data removed]"
          },
          "metadata": {}
        }
      ]
    },
    {
      "cell_type": "code",
      "source": [
        "with torch.inference_mode():\n",
        "  result2 = model_0(img_selected)\n",
        "result2"
      ],
      "metadata": {
        "colab": {
          "base_uri": "https://localhost:8080/"
        },
        "id": "ygUSralsAQOA",
        "outputId": "dab83813-fb98-4761-a1c5-93411c4abe7e"
      },
      "execution_count": null,
      "outputs": [
        {
          "output_type": "execute_result",
          "data": {
            "text/plain": [
              "tensor([[ 0.2202, -0.0308,  0.1246,  0.0942,  0.1652,  0.1427, -0.1042, -0.0507,\n",
              "          0.3156,  0.0253]])"
            ]
          },
          "metadata": {},
          "execution_count": 27
        }
      ]
    },
    {
      "cell_type": "code",
      "source": [
        "normalized_probabilities2 = nn.functional.softmax(result2, dim=1)\n",
        "normalized_probabilities2"
      ],
      "metadata": {
        "colab": {
          "base_uri": "https://localhost:8080/"
        },
        "id": "d1zjzwuDBYZi",
        "outputId": "0fa72461-d9fb-4f81-8f62-695bd7493782"
      },
      "execution_count": null,
      "outputs": [
        {
          "output_type": "execute_result",
          "data": {
            "text/plain": [
              "tensor([[0.1130, 0.0879, 0.1027, 0.0996, 0.1070, 0.1046, 0.0817, 0.0862, 0.1243,\n",
              "         0.0930]])"
            ]
          },
          "metadata": {},
          "execution_count": 28
        }
      ]
    },
    {
      "cell_type": "code",
      "source": [
        "index_selected = torch.argmax(result2)\n",
        "print(f\"{index_selected} - {class_names[index_selected]} - {normalized_probabilities2.squeeze()[index_selected].item() * 100:.2f}%\")"
      ],
      "metadata": {
        "colab": {
          "base_uri": "https://localhost:8080/"
        },
        "id": "qPUtjKxZBe-_",
        "outputId": "b4db7f40-9358-4fe3-a2f8-ad2c86b8ba4a"
      },
      "execution_count": null,
      "outputs": [
        {
          "output_type": "stream",
          "name": "stdout",
          "text": [
            "8 - Bag - 12.43%\n"
          ]
        }
      ]
    },
    {
      "cell_type": "markdown",
      "source": [
        "### Model 0 - Linear Model - Loss, Accuracy, Optimizer"
      ],
      "metadata": {
        "id": "ooIK1j6dVXzs"
      }
    },
    {
      "cell_type": "code",
      "source": [
        "# loss, optimizer and evaluation metrics functions\n",
        "loss_fn = nn.CrossEntropyLoss()\n",
        "optimizer0 = torch.optim.SGD(params=model_0.parameters(), lr=0.1)\n",
        "\n",
        "def accuracy_fn(y_true, y_pred):\n",
        "    \"\"\"Calculates accuracy between truth labels and predictions.\n",
        "    Args:\n",
        "        y_true (torch.Tensor): Truth labels for predictions.\n",
        "        y_pred (torch.Tensor): Predictions to be compared to predictions.\n",
        "    Returns:\n",
        "        [torch.float]: Accuracy value between y_true and y_pred, e.g. 78.45\n",
        "    \"\"\"\n",
        "    correct = torch.eq(y_true, y_pred).sum().item()\n",
        "    acc = (correct / len(y_pred)) * 100\n",
        "    return acc"
      ],
      "metadata": {
        "id": "z3TifjTl8s9D"
      },
      "execution_count": null,
      "outputs": []
    },
    {
      "cell_type": "code",
      "source": [
        "# time experiment function\n",
        "from timeit import default_timer as timer\n",
        "def print_train_time(start:float, end:float, device:torch.device=None):\n",
        "  total_time = end - start\n",
        "  print(f\"Train time on {device}: {total_time:.3f} seconds\")\n",
        "  return total_time"
      ],
      "metadata": {
        "id": "uqHeS2179CQd"
      },
      "execution_count": null,
      "outputs": []
    },
    {
      "cell_type": "markdown",
      "source": [
        "### Model 0 - Linear Model - Training loop"
      ],
      "metadata": {
        "id": "eYjF6kwcODhX"
      }
    },
    {
      "cell_type": "code",
      "source": [
        "from tqdm.auto import tqdm\n",
        "torch.manual_seed(42)\n",
        "start_time = timer()\n",
        "epochs = 3\n",
        "\n",
        "model_0.train()\n",
        "for epoch in tqdm(range(epochs)):\n",
        "  print(f\"Epoch: {epoch + 1}\")\n",
        "  train_loss = 0\n",
        "  for batch, (X,y) in enumerate(train_dataloader):\n",
        "    y_pred = model_0(X)\n",
        "    loss = loss_fn(y_pred, y)\n",
        "    train_loss += loss\n",
        "\n",
        "    optimizer0.zero_grad()\n",
        "    loss.backward()\n",
        "    optimizer0.step()\n",
        "\n",
        "    if batch % 400 == 0:\n",
        "      print(f\"Looked at {batch * len(X)}/{len(train_dataloader.dataset)} samples.\")\n",
        "\n",
        "  train_loss /= len(train_dataloader)\n",
        "\n",
        "\n",
        "  test_loss, test_acc = 0, 0\n",
        "  model_0.eval()\n",
        "  with torch.inference_mode():\n",
        "    for X_test, y_test in test_dataloader:\n",
        "      test_pred = model_0(X_test)\n",
        "      test_loss += loss_fn(test_pred, y_test)\n",
        "      test_acc += accuracy_fn(y_test, test_pred.argmax(dim=1))\n",
        "\n",
        "    test_loss /= len(test_dataloader)\n",
        "    test_acc /= len(test_dataloader)\n",
        "\n",
        "  print(f\"Train loss: {train_loss:.4f} | Test loss: {test_loss:.4f}, Test acc: {test_acc:.4f}\\n\")\n",
        "\n",
        "end_time = timer()\n",
        "total_time_train = print_train_time(start_time, end_time, str(next(model_0.parameters()).device))\n"
      ],
      "metadata": {
        "colab": {
          "base_uri": "https://localhost:8080/",
          "height": 483,
          "referenced_widgets": [
            "77215bbc51b44f1ba7bea1095b3fc26c",
            "b48995e67c284b4782697437ecbb6a2e",
            "21a85fdb78b84ea4bea0a76b82a828f4",
            "c8991825c3b3452e96a0dce55c403dc0",
            "7f022e53e1504c1a8fe68f1d142d25cd",
            "c8214e052141459a85609c2df7f183a1",
            "1ee7d3327a65479892d71a0d6acf62e0",
            "8f065cbc65bf418a9f69ab752455ec45",
            "aa106038d74c49d5a592a920c9546255",
            "9e7bd01180384de5aa728b6ba23b8bff",
            "2fb265a0e26346d592f2da8ede78fb30"
          ]
        },
        "id": "ey3XVFeRN23c",
        "outputId": "78727fb4-bfff-4b7e-913d-6b2838a5a5b3"
      },
      "execution_count": null,
      "outputs": [
        {
          "output_type": "display_data",
          "data": {
            "text/plain": [
              "  0%|          | 0/3 [00:00<?, ?it/s]"
            ],
            "application/vnd.jupyter.widget-view+json": {
              "version_major": 2,
              "version_minor": 0,
              "model_id": "77215bbc51b44f1ba7bea1095b3fc26c"
            }
          },
          "metadata": {}
        },
        {
          "output_type": "stream",
          "name": "stdout",
          "text": [
            "Epoch: 1\n",
            "Looked at 0/60000 samples.\n",
            "Looked at 12800/60000 samples.\n",
            "Looked at 25600/60000 samples.\n",
            "Looked at 38400/60000 samples.\n",
            "Looked at 51200/60000 samples.\n",
            "Train loss: 0.5899 | Test loss: 0.5029, Test acc: 82.3782\n",
            "\n",
            "Epoch: 2\n",
            "Looked at 0/60000 samples.\n",
            "Looked at 12800/60000 samples.\n",
            "Looked at 25600/60000 samples.\n",
            "Looked at 38400/60000 samples.\n",
            "Looked at 51200/60000 samples.\n",
            "Train loss: 0.4768 | Test loss: 0.4816, Test acc: 83.0571\n",
            "\n",
            "Epoch: 3\n",
            "Looked at 0/60000 samples.\n",
            "Looked at 12800/60000 samples.\n",
            "Looked at 25600/60000 samples.\n",
            "Looked at 38400/60000 samples.\n",
            "Looked at 51200/60000 samples.\n",
            "Train loss: 0.4549 | Test loss: 0.4791, Test acc: 83.4465\n",
            "\n",
            "Train time on cpu: 29.985 seconds\n"
          ]
        }
      ]
    },
    {
      "cell_type": "code",
      "source": [
        "# show again the same image selected\n",
        "test_image_selected = img[random_num]\n",
        "plt.imshow(img[random_num].squeeze())\n",
        "plt.title(f\"{random_num.item()} - {class_names[label[random_num]]}\")"
      ],
      "metadata": {
        "colab": {
          "base_uri": "https://localhost:8080/",
          "height": 469
        },
        "id": "7uSUTvsvE1sS",
        "outputId": "2ce44560-f0a0-4bc6-8c62-5ae681fd3741"
      },
      "execution_count": null,
      "outputs": [
        {
          "output_type": "execute_result",
          "data": {
            "text/plain": [
              "Text(0.5, 1.0, '31 - Bag')"
            ]
          },
          "metadata": {},
          "execution_count": 33
        },
        {
          "output_type": "display_data",
          "data": {
            "text/plain": [
              "<Figure size 640x480 with 1 Axes>"
            ],
            "image/png": "[encoded data removed]"
          },
          "metadata": {}
        }
      ]
    },
    {
      "cell_type": "code",
      "source": [
        "# try the trained model with the same random test image selected before\n",
        "with torch.inference_mode():\n",
        "  result3 = model_0(img_selected)\n",
        "result3"
      ],
      "metadata": {
        "colab": {
          "base_uri": "https://localhost:8080/"
        },
        "id": "R-QLGg18DhP1",
        "outputId": "f0d6c753-8779-44f5-b404-d73c94235332"
      },
      "execution_count": null,
      "outputs": [
        {
          "output_type": "execute_result",
          "data": {
            "text/plain": [
              "tensor([[ 3.4226, -3.9922,  2.1689,  4.4035,  1.5055, -2.0257,  2.4320, -5.0679,\n",
              "          6.2636, -6.1988]])"
            ]
          },
          "metadata": {},
          "execution_count": 34
        }
      ]
    },
    {
      "cell_type": "code",
      "source": [
        "normalized_probabilities3 = nn.functional.softmax(result3, dim=1)\n",
        "normalized_probabilities3"
      ],
      "metadata": {
        "colab": {
          "base_uri": "https://localhost:8080/"
        },
        "id": "6Kdsbkl9D_zw",
        "outputId": "f05fee76-fb2a-4c69-dd5b-ef293de1bc22"
      },
      "execution_count": null,
      "outputs": [
        {
          "output_type": "execute_result",
          "data": {
            "text/plain": [
              "tensor([[4.6275e-02, 2.7871e-05, 1.3210e-02, 1.2341e-01, 6.8040e-03, 1.9915e-04,\n",
              "         1.7185e-02, 9.5062e-06, 7.9287e-01, 3.0678e-06]])"
            ]
          },
          "metadata": {},
          "execution_count": 35
        }
      ]
    },
    {
      "cell_type": "code",
      "source": [
        "index_selected3 = torch.argmax(result3)\n",
        "print(f\"{index_selected3} - {class_names[index_selected3]} - {normalized_probabilities3.squeeze()[index_selected3].item() * 100:.2f}%\")"
      ],
      "metadata": {
        "colab": {
          "base_uri": "https://localhost:8080/"
        },
        "id": "fA88gPyfEKrF",
        "outputId": "39dee322-d3cf-4c46-f0a7-bd7fdfd8fc8e"
      },
      "execution_count": null,
      "outputs": [
        {
          "output_type": "stream",
          "name": "stdout",
          "text": [
            "8 - Bag - 79.29%\n"
          ]
        }
      ]
    },
    {
      "cell_type": "code",
      "source": [
        "# previous wrong or uncertain inference\n",
        "print(f\"{index_selected} - {class_names[index_selected]} - {normalized_probabilities2.squeeze()[index_selected].item() * 100:.2f}%\")"
      ],
      "metadata": {
        "colab": {
          "base_uri": "https://localhost:8080/"
        },
        "id": "oOm1U4fAEX_N",
        "outputId": "584b1a11-7eee-4117-98ca-08f974a4f6ef"
      },
      "execution_count": null,
      "outputs": [
        {
          "output_type": "stream",
          "name": "stdout",
          "text": [
            "8 - Bag - 12.43%\n"
          ]
        }
      ]
    },
    {
      "cell_type": "markdown",
      "source": [
        "### Model 0 - Linear Model - Evaluation and Predictions"
      ],
      "metadata": {
        "id": "oZfgenUp5_A4"
      }
    },
    {
      "cell_type": "code",
      "source": [
        "# having argmax(dim=1), we use dim=1 to apply the argmax function comparing elements in the row not in columns as dim=0 do\n",
        "torch.manual_seed(42)\n",
        "def eval_model(model: torch.nn.Module,\n",
        "               data_loader: torch.utils.data.DataLoader,\n",
        "               loss_fn: torch.nn.Module,\n",
        "               accuracy_fn):\n",
        "\n",
        "  \"\"\" Returns a dictionary containing the results of model predicting on data_loader\"\"\"\n",
        "\n",
        "  loss, acc = 0,0\n",
        "  model.eval()\n",
        "  with torch.inference_mode():\n",
        "    for X, y in tqdm(data_loader):\n",
        "      y_pred = model(X)\n",
        "      loss += loss_fn(y_pred, y)\n",
        "      acc += accuracy_fn(y, y_pred.argmax(dim=1))\n",
        "\n",
        "    loss /= len(data_loader)\n",
        "    acc /= len(data_loader)\n",
        "\n",
        "  return {\"model_name\": model.__class__.__name__,\n",
        "          \"model_acc\": f\"{acc:4f}\",\n",
        "          \"model_loss\": f\"{loss.item():.4f}\",\n",
        "          }"
      ],
      "metadata": {
        "id": "1hUsrNiKLiEv"
      },
      "execution_count": null,
      "outputs": []
    },
    {
      "cell_type": "code",
      "source": [
        "# eval untrained model\n",
        "eval_model(model_untrained, test_dataloader, loss_fn, accuracy_fn)"
      ],
      "metadata": {
        "colab": {
          "base_uri": "https://localhost:8080/",
          "height": 101,
          "referenced_widgets": [
            "24c37b396ae14b988d089e261145c21d",
            "76b9d13a22304203b442591107453cd5",
            "a186f4660e0b454482bd820986186414",
            "941c493844314067bef7e816b300866f",
            "d21b8d3383c74460a062e52ffc4bb682",
            "a987930b576e408eadcea1e573151e7e",
            "8ccb1006af6a4660b79c7d22ec9e4af9",
            "4a0d2a1c4a324125b3c6148369ac57c5",
            "7dda827ba6d24941bc3bbb6746b91ab6",
            "8395f805962146a08d93bea2749ba3b1",
            "9ac447ec7ca749af9989c5e7a8c7ad1a"
          ]
        },
        "id": "WrkHXxhO_kd9",
        "outputId": "faa207ed-44d9-4824-a734-ecef0188016f"
      },
      "execution_count": null,
      "outputs": [
        {
          "output_type": "display_data",
          "data": {
            "text/plain": [
              "  0%|          | 0/313 [00:00<?, ?it/s]"
            ],
            "application/vnd.jupyter.widget-view+json": {
              "version_major": 2,
              "version_minor": 0,
              "model_id": "24c37b396ae14b988d089e261145c21d"
            }
          },
          "metadata": {}
        },
        {
          "output_type": "execute_result",
          "data": {
            "text/plain": [
              "{'model_name': 'FashionMNISTModel',\n",
              " 'model_acc': '10.852636',\n",
              " 'model_loss': '2.3191'}"
            ]
          },
          "metadata": {},
          "execution_count": 39
        }
      ]
    },
    {
      "cell_type": "code",
      "source": [
        "# eval trained model\n",
        "model_0_results = eval_model(model_0, test_dataloader, loss_fn, accuracy_fn)\n",
        "model_0_results"
      ],
      "metadata": {
        "colab": {
          "base_uri": "https://localhost:8080/",
          "height": 101,
          "referenced_widgets": [
            "bc5148c7175d42328aa2aff71e54a242",
            "1ea2cb7ebec24d48b21efa575dc89998",
            "dce8ec93fdb043019eb1cd4fee3b708c",
            "33f52fe0387743ab9bdbb04011fceeb1",
            "e5e9aa2d49bc497e9d76d42441d85567",
            "9905be0a08234fcb912a1c0e6f9dd04b",
            "88d75afc5b98472cb86b67256b963701",
            "f1a2baae6e8e4d7e9110084cdd78dad4",
            "66a1936789e64f3db42da6908adc975d",
            "197d015644144786a3971317629dfa2a",
            "eb8f5cf154e94073844b3bc9c78650ee"
          ]
        },
        "id": "vDtvrm2L-z-7",
        "outputId": "cec22e9b-582f-4588-925e-f5d2de2f17f6"
      },
      "execution_count": null,
      "outputs": [
        {
          "output_type": "display_data",
          "data": {
            "text/plain": [
              "  0%|          | 0/313 [00:00<?, ?it/s]"
            ],
            "application/vnd.jupyter.widget-view+json": {
              "version_major": 2,
              "version_minor": 0,
              "model_id": "bc5148c7175d42328aa2aff71e54a242"
            }
          },
          "metadata": {}
        },
        {
          "output_type": "execute_result",
          "data": {
            "text/plain": [
              "{'model_name': 'FashionMNISTModel',\n",
              " 'model_acc': '83.446486',\n",
              " 'model_loss': '0.4791'}"
            ]
          },
          "metadata": {},
          "execution_count": 40
        }
      ]
    },
    {
      "cell_type": "markdown",
      "source": [
        "### Model 1 - Non-Linear Model"
      ],
      "metadata": {
        "id": "qWHd4TnR90W8"
      }
    },
    {
      "cell_type": "code",
      "source": [
        "class FashionMNISTModelNonLinear(nn.Module):\n",
        "  def __init__(self,\n",
        "               input_shape:int,\n",
        "               hidden_units:int,\n",
        "               output_shape:int):\n",
        "    super().__init__()\n",
        "    self.layer_stack = nn.Sequential(\n",
        "        nn.Flatten(),\n",
        "        nn.Linear(input_shape, hidden_units),\n",
        "        nn.ReLU(),\n",
        "        nn.Linear(hidden_units, output_shape),\n",
        "        nn.ReLU()\n",
        "    )\n",
        "\n",
        "  def forward(self, x:torch.Tensor):\n",
        "    return self.layer_stack(x)"
      ],
      "metadata": {
        "id": "JI6gB6SlBCUP"
      },
      "execution_count": null,
      "outputs": []
    },
    {
      "cell_type": "code",
      "source": [
        "output.squeeze().shape[0], len(class_names)"
      ],
      "metadata": {
        "colab": {
          "base_uri": "https://localhost:8080/"
        },
        "id": "WeD1ozRODFi4",
        "outputId": "7ed93ac0-600f-4b91-830c-4e7b41b2c6eb"
      },
      "execution_count": null,
      "outputs": [
        {
          "output_type": "execute_result",
          "data": {
            "text/plain": [
              "(784, 10)"
            ]
          },
          "metadata": {},
          "execution_count": 42
        }
      ]
    },
    {
      "cell_type": "code",
      "source": [
        "model_1 = FashionMNISTModelNonLinear(output.squeeze().shape[0], 10, len(class_names)).to(available_device)\n",
        "model_1"
      ],
      "metadata": {
        "colab": {
          "base_uri": "https://localhost:8080/"
        },
        "id": "iabMbBCJEC7p",
        "outputId": "28487a71-5bc9-48f9-9cba-6aba293c6120"
      },
      "execution_count": null,
      "outputs": [
        {
          "output_type": "execute_result",
          "data": {
            "text/plain": [
              "FashionMNISTModelNonLinear(\n",
              "  (layer_stack): Sequential(\n",
              "    (0): Flatten(start_dim=1, end_dim=-1)\n",
              "    (1): Linear(in_features=784, out_features=10, bias=True)\n",
              "    (2): ReLU()\n",
              "    (3): Linear(in_features=10, out_features=10, bias=True)\n",
              "    (4): ReLU()\n",
              "  )\n",
              ")"
            ]
          },
          "metadata": {},
          "execution_count": 43
        }
      ]
    },
    {
      "cell_type": "code",
      "source": [
        "model_1.state_dict()"
      ],
      "metadata": {
        "colab": {
          "base_uri": "https://localhost:8080/"
        },
        "id": "aipIuzAiEpRX",
        "outputId": "51b2f342-a190-4a45-a4c4-553aaacdcd68"
      },
      "execution_count": null,
      "outputs": [
        {
          "output_type": "execute_result",
          "data": {
            "text/plain": [
              "OrderedDict([('layer_stack.1.weight',\n",
              "              tensor([[ 0.0315, -0.0262,  0.0310,  ...,  0.0344, -0.0162,  0.0241],\n",
              "                      [ 0.0181, -0.0299,  0.0230,  ..., -0.0213,  0.0084, -0.0042],\n",
              "                      [-0.0162,  0.0150,  0.0003,  ...,  0.0155,  0.0046,  0.0110],\n",
              "                      ...,\n",
              "                      [ 0.0105,  0.0343,  0.0217,  ...,  0.0088,  0.0018, -0.0136],\n",
              "                      [-0.0354, -0.0044,  0.0154,  ...,  0.0233, -0.0098, -0.0313],\n",
              "                      [ 0.0015, -0.0051,  0.0102,  ...,  0.0037, -0.0302, -0.0123]])),\n",
              "             ('layer_stack.1.bias',\n",
              "              tensor([ 0.0018,  0.0163,  0.0069, -0.0078,  0.0002,  0.0307,  0.0238,  0.0122,\n",
              "                      -0.0257, -0.0120])),\n",
              "             ('layer_stack.3.weight',\n",
              "              tensor([[ 0.2019,  0.2847, -0.1495,  0.1344, -0.0740,  0.2006, -0.0475, -0.2514,\n",
              "                       -0.3130, -0.0118],\n",
              "                      [ 0.0932, -0.1864,  0.2488,  0.1500,  0.1907,  0.1457, -0.3050, -0.0580,\n",
              "                        0.1643,  0.1565],\n",
              "                      [-0.2877, -0.1792,  0.2305, -0.2618,  0.2397, -0.0610,  0.0232,  0.1542,\n",
              "                        0.0851, -0.2027],\n",
              "                      [ 0.1030, -0.2715, -0.1596, -0.0555, -0.0633,  0.2302, -0.1726,  0.2654,\n",
              "                        0.1473,  0.1029],\n",
              "                      [ 0.2252, -0.2160, -0.2725,  0.0118,  0.1559,  0.1596,  0.0132,  0.3024,\n",
              "                        0.1124,  0.1366],\n",
              "                      [-0.1533,  0.0965, -0.1184, -0.2555, -0.2057, -0.1909, -0.0477, -0.1324,\n",
              "                        0.2905,  0.1307],\n",
              "                      [-0.2629,  0.0133,  0.2727, -0.0127,  0.0513,  0.0863, -0.1043, -0.2047,\n",
              "                       -0.1185, -0.0825],\n",
              "                      [ 0.2488, -0.2571,  0.0425, -0.1209, -0.0336, -0.0281, -0.1227,  0.0730,\n",
              "                        0.0747, -0.1816],\n",
              "                      [ 0.1943,  0.2853, -0.1310,  0.0645, -0.1171,  0.2168, -0.0245, -0.2820,\n",
              "                        0.0736,  0.2621],\n",
              "                      [ 0.0012, -0.0810, -0.0087,  0.1791,  0.2712, -0.0791,  0.1685,  0.1762,\n",
              "                        0.2825,  0.2266]])),\n",
              "             ('layer_stack.3.bias',\n",
              "              tensor([-0.2612, -0.2613, -0.2624,  0.1987, -0.1606,  0.1747, -0.0471, -0.1303,\n",
              "                       0.2380, -0.0611]))])"
            ]
          },
          "metadata": {},
          "execution_count": 44
        }
      ]
    },
    {
      "cell_type": "code",
      "source": [
        "from tqdm.auto import tqdm\n",
        "def trainingLoop(model:nn.Module,\n",
        "                 optimizer:torch.optim,\n",
        "                 loss_fn:nn.Module,\n",
        "                 train_dataloader:DataLoader,\n",
        "                 test_dataloader:DataLoader,\n",
        "                 epochs:int=3\n",
        "                 ):\n",
        "\n",
        "  torch.manual_seed(42)\n",
        "  start_time = timer()\n",
        "  model.train()\n",
        "\n",
        "  for epoch in tqdm(range(epochs)):\n",
        "    print(f\"Epoch: {epoch + 1}\")\n",
        "    train_loss = 0\n",
        "    for batch, (X,y) in enumerate(train_dataloader):\n",
        "      # model.train()\n",
        "      y_pred = model(X)\n",
        "      loss = loss_fn(y_pred, y)\n",
        "      train_loss += loss\n",
        "\n",
        "      optimizer.zero_grad()\n",
        "      loss.backward()\n",
        "      optimizer.step()\n",
        "\n",
        "      if batch % 400 == 0:\n",
        "        print(f\"Looked at {batch * len(X)}/{len(train_dataloader.dataset)} samples.\")\n",
        "\n",
        "    train_loss /= len(train_dataloader)\n",
        "\n",
        "\n",
        "    model.eval()\n",
        "    test_loss, test_acc = 0, 0\n",
        "    with torch.inference_mode():\n",
        "      for X_test, y_test in test_dataloader:\n",
        "        test_pred = model(X_test)\n",
        "        test_loss += loss_fn(test_pred, y_test)\n",
        "        test_acc += accuracy_fn(y_test, test_pred.argmax(dim=1))\n",
        "\n",
        "      test_loss /= len(test_dataloader)\n",
        "      test_acc /= len(test_dataloader)\n",
        "\n",
        "    print(f\"Train loss: {train_loss:.4f} | Test loss: {test_loss:.4f}, Test acc: {test_acc:.4f}\\n\")\n",
        "\n",
        "  end_time = timer()\n",
        "  total_time_train = print_train_time(start_time, end_time, str(next(model.parameters()).device))\n"
      ],
      "metadata": {
        "id": "5Y9f5VplEsxv"
      },
      "execution_count": null,
      "outputs": []
    },
    {
      "cell_type": "code",
      "source": [
        "# Same loss and accuracy functionas before but a new optimizer\n",
        "optimizer1 = torch.optim.SGD(params=model_1.parameters(), lr=0.1)"
      ],
      "metadata": {
        "id": "j4xO9b3ZKla8"
      },
      "execution_count": null,
      "outputs": []
    },
    {
      "cell_type": "code",
      "source": [
        "trainingLoop(model_1, optimizer1, loss_fn, train_dataloader, test_dataloader)"
      ],
      "metadata": {
        "colab": {
          "base_uri": "https://localhost:8080/",
          "height": 483,
          "referenced_widgets": [
            "05efbe336ecb4a7aa22f56af2a5594cb",
            "0ee0e2c0e0ab4c2a8894845bae2d14e0",
            "1e4ab973fd494ffabff7623ea8a5d18e",
            "19e29fefd6be4a28b37c633cca363b7b",
            "7a7f0671e90543ddbc1413efda646c94",
            "4bdb4ae371004bb39eb71259058c5412",
            "b2eea0289f2043148758df37f61fa7e1",
            "b4c462fca7a14ecdbc4a87eea6bcf72b",
            "8635dc01566b4d0fa51aa22ccd2ddaf2",
            "41545b2a19e44c528cd0b3a85a40ec32",
            "fe675b346e254d7ca3c6c76e634edcea"
          ]
        },
        "id": "G-F8sa5VIYvK",
        "outputId": "a43dd087-6ddc-41af-d001-40bac32b9e95"
      },
      "execution_count": null,
      "outputs": [
        {
          "output_type": "display_data",
          "data": {
            "text/plain": [
              "  0%|          | 0/3 [00:00<?, ?it/s]"
            ],
            "application/vnd.jupyter.widget-view+json": {
              "version_major": 2,
              "version_minor": 0,
              "model_id": "05efbe336ecb4a7aa22f56af2a5594cb"
            }
          },
          "metadata": {}
        },
        {
          "output_type": "stream",
          "name": "stdout",
          "text": [
            "Epoch: 1\n",
            "Looked at 0/60000 samples.\n",
            "Looked at 12800/60000 samples.\n",
            "Looked at 25600/60000 samples.\n",
            "Looked at 38400/60000 samples.\n",
            "Looked at 51200/60000 samples.\n",
            "Train loss: 0.6704 | Test loss: 0.5126, Test acc: 81.5994\n",
            "\n",
            "Epoch: 2\n",
            "Looked at 0/60000 samples.\n",
            "Looked at 12800/60000 samples.\n",
            "Looked at 25600/60000 samples.\n",
            "Looked at 38400/60000 samples.\n",
            "Looked at 51200/60000 samples.\n",
            "Train loss: 0.4766 | Test loss: 0.4906, Test acc: 82.1985\n",
            "\n",
            "Epoch: 3\n",
            "Looked at 0/60000 samples.\n",
            "Looked at 12800/60000 samples.\n",
            "Looked at 25600/60000 samples.\n",
            "Looked at 38400/60000 samples.\n",
            "Looked at 51200/60000 samples.\n",
            "Train loss: 0.4448 | Test loss: 0.4633, Test acc: 83.4265\n",
            "\n",
            "Train time on cpu: 30.646 seconds\n"
          ]
        }
      ]
    },
    {
      "cell_type": "markdown",
      "source": [
        "### Model 1 - Non-Linear Model - Evaluation"
      ],
      "metadata": {
        "id": "DrvJENEuaXq-"
      }
    },
    {
      "cell_type": "code",
      "source": [
        "model_1_results = eval_model(model_1, test_dataloader, loss_fn, accuracy_fn)\n",
        "model_1_results"
      ],
      "metadata": {
        "colab": {
          "base_uri": "https://localhost:8080/",
          "height": 101,
          "referenced_widgets": [
            "60a25a942e6f49909867570122691a7c",
            "f224b92b0df546d9b563c9a64ec980d1",
            "e47a7a82ffdc4e159c89bb96226dc875",
            "b497eeed5df74d0eb116ca36913a2055",
            "4d468286afd44d98b0ae377e275c50ba",
            "da2a0112e4fe471abf3bff2ade6afad3",
            "d0e92e564e3d4e9da0dc217f257a2de5",
            "8f3047cf2162496683d3c962b8b54877",
            "a18e4607a05246d78078de5f92c55878",
            "7f0a4befeb27405398541a76e8174e2e",
            "0af12cb5e6a3441dbcd347658a15322f"
          ]
        },
        "id": "KJEtWJ_ZFOcc",
        "outputId": "9e86e3e1-e958-4760-9b52-c44067d8f66e"
      },
      "execution_count": null,
      "outputs": [
        {
          "output_type": "display_data",
          "data": {
            "text/plain": [
              "  0%|          | 0/313 [00:00<?, ?it/s]"
            ],
            "application/vnd.jupyter.widget-view+json": {
              "version_major": 2,
              "version_minor": 0,
              "model_id": "60a25a942e6f49909867570122691a7c"
            }
          },
          "metadata": {}
        },
        {
          "output_type": "execute_result",
          "data": {
            "text/plain": [
              "{'model_name': 'FashionMNISTModelNonLinear',\n",
              " 'model_acc': '83.426518',\n",
              " 'model_loss': '0.4633'}"
            ]
          },
          "metadata": {},
          "execution_count": 48
        }
      ]
    },
    {
      "cell_type": "code",
      "source": [
        "eval_model(model_0, test_dataloader, loss_fn, accuracy_fn)"
      ],
      "metadata": {
        "colab": {
          "base_uri": "https://localhost:8080/",
          "height": 101,
          "referenced_widgets": [
            "3a984e9a66e44156b4e71b915c4fa548",
            "da999d6d6bae413eb2617022b55dceff",
            "1fd79174498748eb9e3ea50bde165475",
            "8adbef5ecdae444992619b4eb1bf3080",
            "82f693ff3d0146919f4f1f6d0b134eb0",
            "9e37e8c7c8e74b3d884fc206eaeef5c2",
            "628350da291e41108b90066b4a0ac905",
            "c9956375d74648d78091816458419a5f",
            "e1d07be2f26e45e3b4893761c65fd0eb",
            "2b22e63d852643e19987c8d547a3e96a",
            "8c74212b923a435a973ad2481a061287"
          ]
        },
        "id": "PmiVAmORFmrv",
        "outputId": "16375e83-7322-44a4-facf-665ff7dd96a7"
      },
      "execution_count": null,
      "outputs": [
        {
          "output_type": "display_data",
          "data": {
            "text/plain": [
              "  0%|          | 0/313 [00:00<?, ?it/s]"
            ],
            "application/vnd.jupyter.widget-view+json": {
              "version_major": 2,
              "version_minor": 0,
              "model_id": "3a984e9a66e44156b4e71b915c4fa548"
            }
          },
          "metadata": {}
        },
        {
          "output_type": "execute_result",
          "data": {
            "text/plain": [
              "{'model_name': 'FashionMNISTModel',\n",
              " 'model_acc': '83.446486',\n",
              " 'model_loss': '0.4791'}"
            ]
          },
          "metadata": {},
          "execution_count": 49
        }
      ]
    },
    {
      "cell_type": "markdown",
      "source": [
        "### Model 2 - Convolutional Model - Test a Convolutional Layer"
      ],
      "metadata": {
        "id": "4C3TAmABdDyu"
      }
    },
    {
      "cell_type": "code",
      "source": [
        "dummy_images = torch.randn(size=(32,3,64,64))\n",
        "single_dummy_image = dummy_images[0]\n",
        "single_dummy_image.shape, single_dummy_image"
      ],
      "metadata": {
        "colab": {
          "base_uri": "https://localhost:8080/"
        },
        "id": "GvxES2zGQFOt",
        "outputId": "76bb91bc-450a-43db-b025-33756229fa75"
      },
      "execution_count": null,
      "outputs": [
        {
          "output_type": "execute_result",
          "data": {
            "text/plain": [
              "(torch.Size([3, 64, 64]),\n",
              " tensor([[[-0.4934,  0.2415, -1.1109,  ...,  1.4332,  0.7440, -0.4816],\n",
              "          [-0.6021,  0.9604,  0.4048,  ...,  0.5214,  0.3488,  0.9676],\n",
              "          [-2.2933,  0.4976, -0.4257,  ..., -0.0335, -0.3980,  1.0805],\n",
              "          ...,\n",
              "          [-0.3047, -0.2240,  0.2505,  ..., -1.1975, -0.4352,  0.5881],\n",
              "          [ 0.2135, -0.9207,  1.3648,  ..., -2.3232, -0.6069,  0.9368],\n",
              "          [ 0.5625, -1.3328,  0.3251,  ...,  1.7354, -0.3299,  0.3301]],\n",
              " \n",
              "         [[-0.1551, -0.4295, -1.0249,  ...,  0.6517,  0.9505, -1.5345],\n",
              "          [-2.5638,  0.3786, -0.1196,  ...,  0.4985, -0.6613,  0.8029],\n",
              "          [-2.7346,  1.4190, -1.1141,  ..., -0.3941,  0.6646, -2.1910],\n",
              "          ...,\n",
              "          [-0.3496,  0.2812,  0.5629,  ...,  1.7292,  1.5932,  0.8239],\n",
              "          [-0.8998,  1.0082,  0.2779,  ...,  1.3435, -0.4381, -1.3862],\n",
              "          [-0.1498,  1.2587,  1.4500,  ...,  0.4126, -0.6365, -0.2000]],\n",
              " \n",
              "         [[ 1.5107,  1.1271,  0.4759,  ..., -1.2594, -1.2911,  0.6972],\n",
              "          [-0.6203, -0.7304, -0.6076,  ...,  0.7690, -1.2935, -0.5709],\n",
              "          [ 0.5883,  0.9631, -0.4721,  ...,  0.4382, -1.1242,  1.2278],\n",
              "          ...,\n",
              "          [-0.0139,  0.0979, -2.2571,  ...,  1.3790, -1.2863,  0.5623],\n",
              "          [-0.0050, -3.6095, -0.0835,  ...,  0.5902,  0.5907, -0.1570],\n",
              "          [ 0.7238, -0.0380,  0.0100,  ..., -0.3914,  1.9754, -0.8547]]]))"
            ]
          },
          "metadata": {},
          "execution_count": 50
        }
      ]
    },
    {
      "cell_type": "code",
      "source": [
        "dummy_conv_layer = nn.Conv2d(in_channels=3,\n",
        "                             out_channels=10,\n",
        "                             kernel_size=3,\n",
        "                             stride=1,\n",
        "                             padding=1)"
      ],
      "metadata": {
        "id": "Wuv-_T71Qe_e"
      },
      "execution_count": null,
      "outputs": []
    },
    {
      "cell_type": "code",
      "source": [
        "dummy_result = dummy_conv_layer(single_dummy_image)\n",
        "dummy_result.shape"
      ],
      "metadata": {
        "colab": {
          "base_uri": "https://localhost:8080/"
        },
        "id": "KS2T_UpUY6Ge",
        "outputId": "1e38c147-80b4-44ca-f8b1-c8c567c2d4df"
      },
      "execution_count": null,
      "outputs": [
        {
          "output_type": "execute_result",
          "data": {
            "text/plain": [
              "torch.Size([10, 64, 64])"
            ]
          },
          "metadata": {},
          "execution_count": 52
        }
      ]
    },
    {
      "cell_type": "code",
      "source": [
        "def create_dummy_conv(dummy_in_channels:int,\n",
        "                      dummy_out_channels:int,\n",
        "                      dummy_kernel_size:int,\n",
        "                      dummy_stride:int,\n",
        "                      dummy_padding:int):\n",
        "  return nn.Conv2d(dummy_in_channels,\n",
        "                   dummy_out_channels,\n",
        "                   dummy_kernel_size,\n",
        "                   dummy_stride,\n",
        "                   dummy_padding)"
      ],
      "metadata": {
        "id": "73BT9uOKah9Z"
      },
      "execution_count": null,
      "outputs": []
    },
    {
      "cell_type": "code",
      "source": [
        "create_dummy_conv(3, 10, 8, 3, 0)(single_dummy_image).shape"
      ],
      "metadata": {
        "colab": {
          "base_uri": "https://localhost:8080/"
        },
        "id": "1SE2zoBLZHxU",
        "outputId": "ac190dac-39c3-4ca0-bd2c-604547c22363"
      },
      "execution_count": null,
      "outputs": [
        {
          "output_type": "execute_result",
          "data": {
            "text/plain": [
              "torch.Size([10, 19, 19])"
            ]
          },
          "metadata": {},
          "execution_count": 54
        }
      ]
    },
    {
      "cell_type": "markdown",
      "source": [
        "### Model 2 - Convolutional Model"
      ],
      "metadata": {
        "id": "ULsAQ8aBR1yq"
      }
    },
    {
      "cell_type": "code",
      "source": [
        "class FashionMNISTModelCNN(nn.Module):\n",
        "  def __init__(self, input_shape:int, hidden_unit:int, output_shape:int):\n",
        "    super().__init__()\n",
        "    self.conv_block_1 = nn.Sequential(\n",
        "        nn.Conv2d(in_channels=input_shape,\n",
        "                  out_channels=hidden_unit,\n",
        "                  kernel_size=3,\n",
        "                  stride=1,\n",
        "                  padding=1),\n",
        "        nn.ReLU(),\n",
        "        nn.Conv2d(in_channels=hidden_unit,\n",
        "                  out_channels=output_shape,\n",
        "                  kernel_size=3,\n",
        "                  stride=1,\n",
        "                  padding=1),\n",
        "        nn.ReLU(),\n",
        "        nn.MaxPool2d(kernel_size=2)\n",
        "    )\n",
        "\n",
        "    self.conv_block_2 = nn.Sequential(\n",
        "        nn.Conv2d(in_channels=hidden_unit,\n",
        "                  out_channels=hidden_unit,\n",
        "                  kernel_size=3,\n",
        "                  stride=1,\n",
        "                  padding=1),\n",
        "        nn.ReLU(),\n",
        "        nn.Conv2d(in_channels=hidden_unit,\n",
        "                  out_channels=hidden_unit,\n",
        "                  kernel_size=3,\n",
        "                  stride=1,\n",
        "                  padding=1),\n",
        "        nn.ReLU(),\n",
        "        nn.MaxPool2d(kernel_size=2)\n",
        "    )\n",
        "    self.classifier = nn.Sequential(\n",
        "        nn.Flatten(),\n",
        "        nn.Linear(in_features=hidden_unit,\n",
        "                  out_features=output_shape)\n",
        "    )\n",
        "\n",
        "  def forward(self, x):\n",
        "    x = self.conv_block_1(x)\n",
        "    print(x.shape)\n",
        "    x = self.conv_block_2(x)\n",
        "    print(x.shape)\n",
        "    x = self.classifier(x)\n",
        "    print(x.shape)\n",
        "    return x"
      ],
      "metadata": {
        "id": "lm97zyqKMMLj"
      },
      "execution_count": null,
      "outputs": []
    },
    {
      "cell_type": "code",
      "source": [
        "# we have only one channel for color, it is a graysacale not a RGB thrn imput_shape=1\n",
        "image.shape"
      ],
      "metadata": {
        "colab": {
          "base_uri": "https://localhost:8080/"
        },
        "id": "qlLGhnhAP5u7",
        "outputId": "971988b5-e14a-422f-ff01-bef15b05c5c8"
      },
      "execution_count": null,
      "outputs": [
        {
          "output_type": "execute_result",
          "data": {
            "text/plain": [
              "torch.Size([1, 28, 28])"
            ]
          },
          "metadata": {},
          "execution_count": 56
        }
      ]
    },
    {
      "cell_type": "code",
      "source": [
        "torch.manual_seed(42)\n",
        "model_2 = FashionMNISTModelCNN(input_shape=1, hidden_unit=10, output_shape=len(class_names)).to(available_device)\n",
        "model_2"
      ],
      "metadata": {
        "colab": {
          "base_uri": "https://localhost:8080/"
        },
        "id": "v74np9UWB18i",
        "outputId": "0a5c50dd-e711-4d80-c6a4-8cbe1640b0d8"
      },
      "execution_count": null,
      "outputs": [
        {
          "output_type": "execute_result",
          "data": {
            "text/plain": [
              "FashionMNISTModelCNN(\n",
              "  (conv_block_1): Sequential(\n",
              "    (0): Conv2d(1, 10, kernel_size=(3, 3), stride=(1, 1), padding=(1, 1))\n",
              "    (1): ReLU()\n",
              "    (2): Conv2d(10, 10, kernel_size=(3, 3), stride=(1, 1), padding=(1, 1))\n",
              "    (3): ReLU()\n",
              "    (4): MaxPool2d(kernel_size=2, stride=2, padding=0, dilation=1, ceil_mode=False)\n",
              "  )\n",
              "  (conv_block_2): Sequential(\n",
              "    (0): Conv2d(10, 10, kernel_size=(3, 3), stride=(1, 1), padding=(1, 1))\n",
              "    (1): ReLU()\n",
              "    (2): Conv2d(10, 10, kernel_size=(3, 3), stride=(1, 1), padding=(1, 1))\n",
              "    (3): ReLU()\n",
              "    (4): MaxPool2d(kernel_size=2, stride=2, padding=0, dilation=1, ceil_mode=False)\n",
              "  )\n",
              "  (classifier): Sequential(\n",
              "    (0): Flatten(start_dim=1, end_dim=-1)\n",
              "    (1): Linear(in_features=10, out_features=10, bias=True)\n",
              "  )\n",
              ")"
            ]
          },
          "metadata": {},
          "execution_count": 57
        }
      ]
    },
    {
      "cell_type": "code",
      "source": [
        "dummy_img2 = torch.rand(size=(1,28,28))\n",
        "plt.imshow(dummy_img2.squeeze())"
      ],
      "metadata": {
        "colab": {
          "base_uri": "https://localhost:8080/",
          "height": 447
        },
        "id": "Gh9DkLRUmHaR",
        "outputId": "2b295028-97d4-4704-a6c5-5e2c4e5213d7"
      },
      "execution_count": null,
      "outputs": [
        {
          "output_type": "execute_result",
          "data": {
            "text/plain": [
              "<matplotlib.image.AxesImage at 0x7a4f57a593d0>"
            ]
          },
          "metadata": {},
          "execution_count": 58
        },
        {
          "output_type": "display_data",
          "data": {
            "text/plain": [
              "<Figure size 640x480 with 1 Axes>"
            ],
            "image/png": "[encoded data removed]"
          },
          "metadata": {}
        }
      ]
    },
    {
      "cell_type": "markdown",
      "source": [
        "### Model 2 - Convolutional Model - Typical shape error"
      ],
      "metadata": {
        "id": "fkTURMMpSG6I"
      }
    },
    {
      "cell_type": "code",
      "source": [
        "# with torch.inference_mode():\n",
        "#   result4 = model_2(dummy_img2.unsqueeze(0))\n",
        "# result4\n",
        "\n",
        "\n",
        "\n",
        "# torch.Size([1, 10, 14, 14])\n",
        "# torch.Size([1, 10, 7, 7])\n",
        "# ---------------------------------------------------------------------------\n",
        "# RuntimeError                              Traceback (most recent call last)\n",
        "# <ipython-input-67-35cd8b96118d> in <cell line: 0>()\n",
        "#       1 with torch.inference_mode():\n",
        "# ----> 2   result4 = model_2(dummy_img2.unsqueeze(0))\n",
        "#       3 result4\n",
        "\n",
        "# 8 frames\n",
        "# /usr/local/lib/python3.11/dist-packages/torch/nn/modules/linear.py in forward(self, input)\n",
        "#     123\n",
        "#     124     def forward(self, input: Tensor) -> Tensor:\n",
        "# --> 125         return F.linear(input, self.weight, self.bias)\n",
        "#     126\n",
        "#     127     def extra_repr(self) -> str:\n",
        "\n",
        "# RuntimeError: mat1 and mat2 shapes cannot be multiplied (1x490 and 10x10)\n",
        "\n",
        "\n",
        "\n",
        "# due to the fact that I do not see the print just after apply classifier layer, I know classifier layer has a issue\n",
        "# It say: shapes cannot be multiplied (10x490 and 10x10) --> layer does not fit, instead of 10 has to be 490 to fit with the flatten output\n",
        "# nn.Linear(in_features=hidden_unit, --> nn.Linear(in_features=490),"
      ],
      "metadata": {
        "id": "G9_OV8hQo6iH"
      },
      "execution_count": null,
      "outputs": []
    },
    {
      "cell_type": "code",
      "source": [
        "class FashionMNISTModelCNN(nn.Module):\n",
        "  def __init__(self, input_shape:int, hidden_unit:int, output_shape:int):\n",
        "    super().__init__()\n",
        "    self.conv_block_1 = nn.Sequential(\n",
        "        nn.Conv2d(in_channels=input_shape,\n",
        "                  out_channels=hidden_unit,\n",
        "                  kernel_size=3,\n",
        "                  stride=1,\n",
        "                  padding=1),\n",
        "        nn.ReLU(),\n",
        "        nn.Conv2d(in_channels=hidden_unit,\n",
        "                  out_channels=output_shape,\n",
        "                  kernel_size=3,\n",
        "                  stride=1,\n",
        "                  padding=1),\n",
        "        nn.ReLU(),\n",
        "        nn.MaxPool2d(kernel_size=2)\n",
        "    )\n",
        "\n",
        "    self.conv_block_2 = nn.Sequential(\n",
        "        nn.Conv2d(in_channels=hidden_unit,\n",
        "                  out_channels=hidden_unit,\n",
        "                  kernel_size=3,\n",
        "                  stride=1,\n",
        "                  padding=1),\n",
        "        nn.ReLU(),\n",
        "        nn.Conv2d(in_channels=hidden_unit,\n",
        "                  out_channels=hidden_unit,\n",
        "                  kernel_size=3,\n",
        "                  stride=1,\n",
        "                  padding=1),\n",
        "        nn.ReLU(),\n",
        "        nn.MaxPool2d(kernel_size=2)\n",
        "    )\n",
        "    self.classifier = nn.Sequential(\n",
        "        nn.Flatten(),\n",
        "        nn.Linear(in_features=hidden_unit*7*7, # <--\n",
        "                  out_features=output_shape)\n",
        "    )\n",
        "\n",
        "  def forward(self, x):\n",
        "    x = self.conv_block_1(x)\n",
        "    x = self.conv_block_2(x)\n",
        "    x = self.classifier(x)\n",
        "    return x"
      ],
      "metadata": {
        "id": "uAbPcsgGp4qW"
      },
      "execution_count": null,
      "outputs": []
    },
    {
      "cell_type": "markdown",
      "source": [
        "### Model 2 - Convolutional Model - Try untrained model"
      ],
      "metadata": {
        "id": "397cBpVITQLV"
      }
    },
    {
      "cell_type": "code",
      "source": [
        "dummy_img2.unsqueeze(0).shape"
      ],
      "metadata": {
        "colab": {
          "base_uri": "https://localhost:8080/"
        },
        "id": "dAFCxVY8uMtD",
        "outputId": "6cf91d24-b2c5-4c36-f3dd-218696c19bd9"
      },
      "execution_count": null,
      "outputs": [
        {
          "output_type": "execute_result",
          "data": {
            "text/plain": [
              "torch.Size([1, 1, 28, 28])"
            ]
          },
          "metadata": {},
          "execution_count": 61
        }
      ]
    },
    {
      "cell_type": "code",
      "source": [
        "# test CNN untrained model\n",
        "model_2 = FashionMNISTModelCNN(input_shape=1, hidden_unit=10, output_shape=len(class_names)).to(available_device)\n",
        "with torch.inference_mode():\n",
        "  result4 = model_2(dummy_img2.unsqueeze(0))\n",
        "result4"
      ],
      "metadata": {
        "colab": {
          "base_uri": "https://localhost:8080/"
        },
        "id": "n4dS1Ka5tren",
        "outputId": "6a9adb2c-eb14-4969-df99-920103a46fac"
      },
      "execution_count": null,
      "outputs": [
        {
          "output_type": "execute_result",
          "data": {
            "text/plain": [
              "tensor([[ 0.0586,  0.0167, -0.0102, -0.0127, -0.0058, -0.0146, -0.0265, -0.0603,\n",
              "          0.0050,  0.0263]])"
            ]
          },
          "metadata": {},
          "execution_count": 62
        }
      ]
    },
    {
      "cell_type": "code",
      "source": [
        "print(f\"{class_names[torch.argmax(result4)]} - {nn.functional.softmax(result4, dim=1).squeeze()[torch.argmax(result4)].item() * 100:.2f}%\")"
      ],
      "metadata": {
        "colab": {
          "base_uri": "https://localhost:8080/"
        },
        "id": "e_hAu5o7xwrb",
        "outputId": "927b5100-924a-4f45-e699-f91211f0e122"
      },
      "execution_count": null,
      "outputs": [
        {
          "output_type": "stream",
          "name": "stdout",
          "text": [
            "T-shirt/top - 10.62%\n"
          ]
        }
      ]
    },
    {
      "cell_type": "code",
      "source": [
        "plt.imshow(test_image_selected.squeeze())"
      ],
      "metadata": {
        "colab": {
          "base_uri": "https://localhost:8080/",
          "height": 447
        },
        "id": "doXFUsFLaJVA",
        "outputId": "eb7062b0-93a3-476e-f76a-85075b2ec283"
      },
      "execution_count": null,
      "outputs": [
        {
          "output_type": "execute_result",
          "data": {
            "text/plain": [
              "<matplotlib.image.AxesImage at 0x7a4f57821010>"
            ]
          },
          "metadata": {},
          "execution_count": 64
        },
        {
          "output_type": "display_data",
          "data": {
            "text/plain": [
              "<Figure size 640x480 with 1 Axes>"
            ],
            "image/png": "[encoded data removed]"
          },
          "metadata": {}
        }
      ]
    },
    {
      "cell_type": "code",
      "source": [
        "test_image_selected.shape, test_image_selected.squeeze(0).shape, test_image_selected.squeeze().shape"
      ],
      "metadata": {
        "colab": {
          "base_uri": "https://localhost:8080/"
        },
        "id": "EIvdKIk5wpn8",
        "outputId": "6c723055-d54f-4aca-9bfd-072ac132adee"
      },
      "execution_count": null,
      "outputs": [
        {
          "output_type": "execute_result",
          "data": {
            "text/plain": [
              "(torch.Size([1, 1, 28, 28]), torch.Size([1, 28, 28]), torch.Size([28, 28]))"
            ]
          },
          "metadata": {},
          "execution_count": 65
        }
      ]
    },
    {
      "cell_type": "code",
      "source": [
        "with torch.inference_mode():\n",
        "  result5 = model_2(test_image_selected)\n",
        "result5"
      ],
      "metadata": {
        "colab": {
          "base_uri": "https://localhost:8080/"
        },
        "id": "Jri8irD2wMLw",
        "outputId": "a3826fb4-af8a-45bf-a564-039a120df848"
      },
      "execution_count": null,
      "outputs": [
        {
          "output_type": "execute_result",
          "data": {
            "text/plain": [
              "tensor([[ 0.0581,  0.0141,  0.0025, -0.0153, -0.0086,  0.0009, -0.0217, -0.0475,\n",
              "          0.0029,  0.0328]])"
            ]
          },
          "metadata": {},
          "execution_count": 66
        }
      ]
    },
    {
      "cell_type": "code",
      "source": [
        "nn.functional.softmax(result5, dim=1)"
      ],
      "metadata": {
        "colab": {
          "base_uri": "https://localhost:8080/"
        },
        "id": "9B57wJQRzYar",
        "outputId": "218385bb-db36-44d6-f725-e138e42d3a39"
      },
      "execution_count": null,
      "outputs": [
        {
          "output_type": "execute_result",
          "data": {
            "text/plain": [
              "tensor([[0.1057, 0.1012, 0.1000, 0.0983, 0.0989, 0.0999, 0.0976, 0.0952, 0.1001,\n",
              "         0.1031]])"
            ]
          },
          "metadata": {},
          "execution_count": 67
        }
      ]
    },
    {
      "cell_type": "code",
      "source": [
        "class_names"
      ],
      "metadata": {
        "colab": {
          "base_uri": "https://localhost:8080/"
        },
        "id": "uq4rN-xvzg1j",
        "outputId": "c489f1ba-0915-4be1-c205-fc4bf408a719"
      },
      "execution_count": null,
      "outputs": [
        {
          "output_type": "execute_result",
          "data": {
            "text/plain": [
              "['T-shirt/top',\n",
              " 'Trouser',\n",
              " 'Pullover',\n",
              " 'Dress',\n",
              " 'Coat',\n",
              " 'Sandal',\n",
              " 'Shirt',\n",
              " 'Sneaker',\n",
              " 'Bag',\n",
              " 'Ankle boot']"
            ]
          },
          "metadata": {},
          "execution_count": 68
        }
      ]
    },
    {
      "cell_type": "code",
      "source": [
        "print(f\"{class_names[torch.argmax(result5)]} - {nn.functional.softmax(result5, dim=1).squeeze()[torch.argmax(result5)].item() * 100:.2f}%\")"
      ],
      "metadata": {
        "colab": {
          "base_uri": "https://localhost:8080/"
        },
        "id": "SiJqm3_fxDse",
        "outputId": "8b1fdcd5-337d-40d1-c647-b09d41d4ac6f"
      },
      "execution_count": null,
      "outputs": [
        {
          "output_type": "stream",
          "name": "stdout",
          "text": [
            "T-shirt/top - 10.57%\n"
          ]
        }
      ]
    },
    {
      "cell_type": "markdown",
      "source": [
        "### Model 2 - Convolutional Model - Loss, Accuarcy, Optimizer and Train"
      ],
      "metadata": {
        "id": "2Ef5zk5PPZQw"
      }
    },
    {
      "cell_type": "code",
      "source": [
        "loss_fn"
      ],
      "metadata": {
        "colab": {
          "base_uri": "https://localhost:8080/"
        },
        "id": "gbVhsmmJyKY2",
        "outputId": "8231a365-17b1-4c48-f83a-9c1e079d705a"
      },
      "execution_count": null,
      "outputs": [
        {
          "output_type": "execute_result",
          "data": {
            "text/plain": [
              "CrossEntropyLoss()"
            ]
          },
          "metadata": {},
          "execution_count": 70
        }
      ]
    },
    {
      "cell_type": "code",
      "source": [
        "accuracy_fn"
      ],
      "metadata": {
        "colab": {
          "base_uri": "https://localhost:8080/",
          "height": 187
        },
        "id": "yC1HKigzTblh",
        "outputId": "d03b1059-7a80-4e9d-8f92-55b163a804cc"
      },
      "execution_count": null,
      "outputs": [
        {
          "output_type": "execute_result",
          "data": {
            "text/plain": [
              "<function __main__.accuracy_fn(y_true, y_pred)>"
            ],
            "text/html": [
              "<div style=\"max-width:800px; border: 1px solid var(--colab-border-color);\"><style>\n",
              "      pre.function-repr-contents {\n",
              "        overflow-x: auto;\n",
              "        padding: 8px 12px;\n",
              "        max-height: 500px;\n",
              "      }\n",
              "\n",
              "      pre.function-repr-contents.function-repr-contents-collapsed {\n",
              "        cursor: pointer;\n",
              "        max-height: 100px;\n",
              "      }\n",
              "    </style>\n",
              "    <pre style=\"white-space: initial; background:\n",
              "         var(--colab-secondary-surface-color); padding: 8px 12px;\n",
              "         border-bottom: 1px solid var(--colab-border-color);\"><b>accuracy_fn</b><br/>def accuracy_fn(y_true, y_pred)</pre><pre class=\"function-repr-contents function-repr-contents-collapsed\" style=\"\"><a class=\"filepath\" style=\"display:none\" href=\"#\">/content/&lt;ipython-input-30-2260690208&gt;</a>Calculates accuracy between truth labels and predictions.\n",
              "Args:\n",
              "    y_true (torch.Tensor): Truth labels for predictions.\n",
              "    y_pred (torch.Tensor): Predictions to be compared to predictions.\n",
              "Returns:\n",
              "    [torch.float]: Accuracy value between y_true and y_pred, e.g. 78.45</pre></div>"
            ]
          },
          "metadata": {},
          "execution_count": 71
        }
      ]
    },
    {
      "cell_type": "code",
      "source": [
        "optimizer2 = torch.optim.SGD(params=model_2.parameters(), lr=0.1)"
      ],
      "metadata": {
        "id": "K3DQ6W1319WT"
      },
      "execution_count": null,
      "outputs": []
    },
    {
      "cell_type": "code",
      "source": [
        "torch.manual_seed(42)\n",
        "torch.cuda.manual_seed(42)\n",
        "trainingLoop(model_2, optimizer2, loss_fn, train_dataloader, test_dataloader)"
      ],
      "metadata": {
        "colab": {
          "base_uri": "https://localhost:8080/",
          "height": 483,
          "referenced_widgets": [
            "3b0bda8d6c1149089ccb2915014cc4c8",
            "09c7e5ef94f14ad2af9afe40bb7bd025",
            "ef4d83c85f8e4f8b9bce8434c53a4eef",
            "49db7597157041dc89da42e5dd847afa",
            "285ecc4f5aee405da8c797d79e94008e",
            "162586a42f294dd18652948f2210b327",
            "a337782611c84f3886d9f7775a3466dd",
            "dfbbd772e99d4681a10afa6bfba864db",
            "7554a995be524e178405253cfcea806f",
            "2585c588985c47a3b587525c92fe1fcc",
            "52a2590b0ca3478ebe6df0c64576ebdd"
          ]
        },
        "id": "53t2rjqBLr_L",
        "outputId": "083eea09-dddb-4d47-c10e-f9cc2c1aaf84"
      },
      "execution_count": null,
      "outputs": [
        {
          "output_type": "display_data",
          "data": {
            "text/plain": [
              "  0%|          | 0/3 [00:00<?, ?it/s]"
            ],
            "application/vnd.jupyter.widget-view+json": {
              "version_major": 2,
              "version_minor": 0,
              "model_id": "3b0bda8d6c1149089ccb2915014cc4c8"
            }
          },
          "metadata": {}
        },
        {
          "output_type": "stream",
          "name": "stdout",
          "text": [
            "Epoch: 1\n",
            "Looked at 0/60000 samples.\n",
            "Looked at 12800/60000 samples.\n",
            "Looked at 25600/60000 samples.\n",
            "Looked at 38400/60000 samples.\n",
            "Looked at 51200/60000 samples.\n",
            "Train loss: 0.7053 | Test loss: 0.3964, Test acc: 85.9325\n",
            "\n",
            "Epoch: 2\n",
            "Looked at 0/60000 samples.\n",
            "Looked at 12800/60000 samples.\n",
            "Looked at 25600/60000 samples.\n",
            "Looked at 38400/60000 samples.\n",
            "Looked at 51200/60000 samples.\n",
            "Train loss: 0.3625 | Test loss: 0.3555, Test acc: 86.9309\n",
            "\n",
            "Epoch: 3\n",
            "Looked at 0/60000 samples.\n",
            "Looked at 12800/60000 samples.\n",
            "Looked at 25600/60000 samples.\n",
            "Looked at 38400/60000 samples.\n",
            "Looked at 51200/60000 samples.\n",
            "Train loss: 0.3183 | Test loss: 0.3114, Test acc: 88.4285\n",
            "\n",
            "Train time on cpu: 154.296 seconds\n"
          ]
        }
      ]
    },
    {
      "cell_type": "markdown",
      "source": [
        "### Model 2 - Convolutional Model - Evaluation"
      ],
      "metadata": {
        "id": "3h16EtMXaqJp"
      }
    },
    {
      "cell_type": "code",
      "source": [
        "def eval_model_on_image(model:nn.Module, image:torch.tensor, class_names:list):\n",
        "\n",
        "  with torch.inference_mode():\n",
        "    logits = model(image)\n",
        "    max_index = torch.argmax(logits)\n",
        "    probabilities = nn.functional.softmax(logits, dim=1)\n",
        "    text = f\"{class_names[max_index]} - {probabilities.squeeze()[max_index].item() * 100:.2f}%\"\n",
        "\n",
        "  # probabilities_dict = {}\n",
        "  # for i, probability in enumerate(probabilities.squeeze()):\n",
        "  #   probabilities_dict[class_names[i]] = f\"{probability.item() * 100:.2f}%\"\n",
        "\n",
        "  return {\n",
        "    \"text\": text,\n",
        "    \"probabilities\": probabilities.squeeze(),\n",
        "    \"logits\": logits.squeeze()\n",
        "  }"
      ],
      "metadata": {
        "id": "DCr1savObGcf"
      },
      "execution_count": null,
      "outputs": []
    },
    {
      "cell_type": "code",
      "source": [
        "def eval_model_on_image_simple(model:nn.Module, image:torch.tensor, class_names:list):\n",
        "  with torch.inference_mode():\n",
        "    logits = model(image)\n",
        "    max_index = torch.argmax(logits)\n",
        "    probabilities = nn.functional.softmax(logits, dim=1)\n",
        "    text = f\"{class_names[max_index]} - {probabilities.squeeze()[max_index].item() * 100:.2f}%\"\n",
        "\n",
        "  return {\n",
        "    \"index\": max_index,\n",
        "    \"text\": text\n",
        "  }"
      ],
      "metadata": {
        "id": "9l_1kfypuln1"
      },
      "execution_count": null,
      "outputs": []
    },
    {
      "cell_type": "code",
      "source": [
        "plt.imshow(test_image_selected.squeeze())"
      ],
      "metadata": {
        "colab": {
          "base_uri": "https://localhost:8080/",
          "height": 447
        },
        "id": "9Ct5XZ12YHG9",
        "outputId": "9fafa1ca-5de2-42c1-c6d9-4268e7086b4d"
      },
      "execution_count": null,
      "outputs": [
        {
          "output_type": "execute_result",
          "data": {
            "text/plain": [
              "<matplotlib.image.AxesImage at 0x7a4f57a02810>"
            ]
          },
          "metadata": {},
          "execution_count": 76
        },
        {
          "output_type": "display_data",
          "data": {
            "text/plain": [
              "<Figure size 640x480 with 1 Axes>"
            ],
            "image/png": "[encoded data removed]"
          },
          "metadata": {}
        }
      ]
    },
    {
      "cell_type": "code",
      "source": [
        "result = eval_model_on_image(model_2, test_image_selected, class_names)\n",
        "result"
      ],
      "metadata": {
        "colab": {
          "base_uri": "https://localhost:8080/"
        },
        "id": "bIFUHXQBaogI",
        "outputId": "ef6def18-0eff-4daa-b626-0745f229cea5"
      },
      "execution_count": null,
      "outputs": [
        {
          "output_type": "execute_result",
          "data": {
            "text/plain": [
              "{'text': 'Bag - 98.49%',\n",
              " 'probabilities': tensor([4.9100e-04, 1.2216e-04, 2.3430e-03, 7.2402e-04, 7.5686e-03, 3.7954e-03,\n",
              "         9.5939e-05, 1.5121e-06, 9.8485e-01, 4.0441e-06]),\n",
              " 'logits': tensor([-0.1259, -1.5170,  1.4368,  0.2624,  2.6094,  1.9192, -1.7587, -5.9089,\n",
              "          7.4779, -4.9251])}"
            ]
          },
          "metadata": {},
          "execution_count": 77
        }
      ]
    },
    {
      "cell_type": "code",
      "source": [
        "model_2_results = eval_model(model_2, test_dataloader, loss_fn, accuracy_fn)\n",
        "model_2_results"
      ],
      "metadata": {
        "colab": {
          "base_uri": "https://localhost:8080/",
          "height": 101,
          "referenced_widgets": [
            "6cd035cb27474f94941275fd8893fb38",
            "d3276a2c02984d9bbcecaadcfcae8383",
            "c235b1a332aa4a0c958994bc9e52d077",
            "d257ff11d0a64eff8e4d5ce727847a45",
            "edfb1d84aa7e4e17b6e16267b61693d5",
            "40c49caeb553422586b807291f68e6b2",
            "54690c5607fb4479bf3699e7b0c6c8de",
            "fba789a0c27b428db72798036a428154",
            "a28f9b6eab6146afa72538ce02d7baca",
            "c6d5993298ea412ca68f45f225dcafe5",
            "801d6bf3a75a4f3190f6e825f8d07d4f"
          ]
        },
        "id": "9XA1Vl6Me7KZ",
        "outputId": "a1e534d6-76b1-4bc1-c402-5a8ff51858b6"
      },
      "execution_count": null,
      "outputs": [
        {
          "output_type": "display_data",
          "data": {
            "text/plain": [
              "  0%|          | 0/313 [00:00<?, ?it/s]"
            ],
            "application/vnd.jupyter.widget-view+json": {
              "version_major": 2,
              "version_minor": 0,
              "model_id": "6cd035cb27474f94941275fd8893fb38"
            }
          },
          "metadata": {}
        },
        {
          "output_type": "execute_result",
          "data": {
            "text/plain": [
              "{'model_name': 'FashionMNISTModelCNN',\n",
              " 'model_acc': '88.428514',\n",
              " 'model_loss': '0.3114'}"
            ]
          },
          "metadata": {},
          "execution_count": 96
        }
      ]
    },
    {
      "cell_type": "markdown",
      "source": [
        "### Comparing results"
      ],
      "metadata": {
        "id": "rZLk9Yg1qGeA"
      }
    },
    {
      "cell_type": "code",
      "source": [
        "import pandas as pd\n",
        "compare_results = pd.DataFrame([model_0_results, model_1_results, model_2_results])\n",
        "compare_results"
      ],
      "metadata": {
        "colab": {
          "base_uri": "https://localhost:8080/",
          "height": 143
        },
        "id": "lAK3u8O3fsQE",
        "outputId": "3e49b55d-0128-420b-f784-e5fc0e1964a3"
      },
      "execution_count": null,
      "outputs": [
        {
          "output_type": "execute_result",
          "data": {
            "text/plain": [
              "                   model_name  model_acc model_loss\n",
              "0           FashionMNISTModel  83.446486     0.4791\n",
              "1  FashionMNISTModelNonLinear  83.426518     0.4633\n",
              "2        FashionMNISTModelCNN  88.428514     0.3114"
            ],
            "text/html": [
              "\n",
              "  <div id=\"df-0d752ec9-7cac-4f5b-8c0a-6c4dfef19912\" class=\"colab-df-container\">\n",
              "    <div>\n",
              "<style scoped>\n",
              "    .dataframe tbody tr th:only-of-type {\n",
              "        vertical-align: middle;\n",
              "    }\n",
              "\n",
              "    .dataframe tbody tr th {\n",
              "        vertical-align: top;\n",
              "    }\n",
              "\n",
              "    .dataframe thead th {\n",
              "        text-align: right;\n",
              "    }\n",
              "</style>\n",
              "<table border=\"1\" class=\"dataframe\">\n",
              "  <thead>\n",
              "    <tr style=\"text-align: right;\">\n",
              "      <th></th>\n",
              "      <th>model_name</th>\n",
              "      <th>model_acc</th>\n",
              "      <th>model_loss</th>\n",
              "    </tr>\n",
              "  </thead>\n",
              "  <tbody>\n",
              "    <tr>\n",
              "      <th>0</th>\n",
              "      <td>FashionMNISTModel</td>\n",
              "      <td>83.446486</td>\n",
              "      <td>0.4791</td>\n",
              "    </tr>\n",
              "    <tr>\n",
              "      <th>1</th>\n",
              "      <td>FashionMNISTModelNonLinear</td>\n",
              "      <td>83.426518</td>\n",
              "      <td>0.4633</td>\n",
              "    </tr>\n",
              "    <tr>\n",
              "      <th>2</th>\n",
              "      <td>FashionMNISTModelCNN</td>\n",
              "      <td>88.428514</td>\n",
              "      <td>0.3114</td>\n",
              "    </tr>\n",
              "  </tbody>\n",
              "</table>\n",
              "</div>\n",
              "    <div class=\"colab-df-buttons\">\n",
              "\n",
              "  <div class=\"colab-df-container\">\n",
              "    <button class=\"colab-df-convert\" onclick=\"convertToInteractive('df-0d752ec9-7cac-4f5b-8c0a-6c4dfef19912')\"\n",
              "            title=\"Convert this dataframe to an interactive table.\"\n",
              "            style=\"display:none;\">\n",
              "\n",
              "  <svg xmlns=\"http://www.w3.org/2000/svg\" height=\"24px\" viewBox=\"0 -960 960 960\">\n",
              "    <path d=\"M120-120v-720h720v720H120Zm60-500h600v-160H180v160Zm220 220h160v-160H400v160Zm0 220h160v-160H400v160ZM180-400h160v-160H180v160Zm440 0h160v-160H620v160ZM180-180h160v-160H180v160Zm440 0h160v-160H620v160Z\"/>\n",
              "  </svg>\n",
              "    </button>\n",
              "\n",
              "  <style>\n",
              "    .colab-df-container {\n",
              "      display:flex;\n",
              "      gap: 12px;\n",
              "    }\n",
              "\n",
              "    .colab-df-convert {\n",
              "      background-color: #E8F0FE;\n",
              "      border: none;\n",
              "      border-radius: 50%;\n",
              "      cursor: pointer;\n",
              "      display: none;\n",
              "      fill: #1967D2;\n",
              "      height: 32px;\n",
              "      padding: 0 0 0 0;\n",
              "      width: 32px;\n",
              "    }\n",
              "\n",
              "    .colab-df-convert:hover {\n",
              "      background-color: #E2EBFA;\n",
              "      box-shadow: 0px 1px 2px rgba(60, 64, 67, 0.3), 0px 1px 3px 1px rgba(60, 64, 67, 0.15);\n",
              "      fill: #174EA6;\n",
              "    }\n",
              "\n",
              "    .colab-df-buttons div {\n",
              "      margin-bottom: 4px;\n",
              "    }\n",
              "\n",
              "    [theme=dark] .colab-df-convert {\n",
              "      background-color: #3B4455;\n",
              "      fill: #D2E3FC;\n",
              "    }\n",
              "\n",
              "    [theme=dark] .colab-df-convert:hover {\n",
              "      background-color: #434B5C;\n",
              "      box-shadow: 0px 1px 3px 1px rgba(0, 0, 0, 0.15);\n",
              "      filter: drop-shadow(0px 1px 2px rgba(0, 0, 0, 0.3));\n",
              "      fill: #FFFFFF;\n",
              "    }\n",
              "  </style>\n",
              "\n",
              "    <script>\n",
              "      const buttonEl =\n",
              "        document.querySelector('#df-0d752ec9-7cac-4f5b-8c0a-6c4dfef19912 button.colab-df-convert');\n",
              "      buttonEl.style.display =\n",
              "        google.colab.kernel.accessAllowed ? 'block' : 'none';\n",
              "\n",
              "      async function convertToInteractive(key) {\n",
              "        const element = document.querySelector('#df-0d752ec9-7cac-4f5b-8c0a-6c4dfef19912');\n",
              "        const dataTable =\n",
              "          await google.colab.kernel.invokeFunction('convertToInteractive',\n",
              "                                                    [key], {});\n",
              "        if (!dataTable) return;\n",
              "\n",
              "        const docLinkHtml = 'Like what you see? Visit the ' +\n",
              "          '<a target=\"_blank\" href=https://colab.research.google.com/notebooks/data_table.ipynb>data table notebook</a>'\n",
              "          + ' to learn more about interactive tables.';\n",
              "        element.innerHTML = '';\n",
              "        dataTable['output_type'] = 'display_data';\n",
              "        await google.colab.output.renderOutput(dataTable, element);\n",
              "        const docLink = document.createElement('div');\n",
              "        docLink.innerHTML = docLinkHtml;\n",
              "        element.appendChild(docLink);\n",
              "      }\n",
              "    </script>\n",
              "  </div>\n",
              "\n",
              "\n",
              "    <div id=\"df-bdf1eb93-7f72-4703-a270-4fd342a5a835\">\n",
              "      <button class=\"colab-df-quickchart\" onclick=\"quickchart('df-bdf1eb93-7f72-4703-a270-4fd342a5a835')\"\n",
              "                title=\"Suggest charts\"\n",
              "                style=\"display:none;\">\n",
              "\n",
              "<svg xmlns=\"http://www.w3.org/2000/svg\" height=\"24px\"viewBox=\"0 0 24 24\"\n",
              "     width=\"24px\">\n",
              "    <g>\n",
              "        <path d=\"M19 3H5c-1.1 0-2 .9-2 2v14c0 1.1.9 2 2 2h14c1.1 0 2-.9 2-2V5c0-1.1-.9-2-2-2zM9 17H7v-7h2v7zm4 0h-2V7h2v10zm4 0h-2v-4h2v4z\"/>\n",
              "    </g>\n",
              "</svg>\n",
              "      </button>\n",
              "\n",
              "<style>\n",
              "  .colab-df-quickchart {\n",
              "      --bg-color: #E8F0FE;\n",
              "      --fill-color: #1967D2;\n",
              "      --hover-bg-color: #E2EBFA;\n",
              "      --hover-fill-color: #174EA6;\n",
              "      --disabled-fill-color: #AAA;\n",
              "      --disabled-bg-color: #DDD;\n",
              "  }\n",
              "\n",
              "  [theme=dark] .colab-df-quickchart {\n",
              "      --bg-color: #3B4455;\n",
              "      --fill-color: #D2E3FC;\n",
              "      --hover-bg-color: #434B5C;\n",
              "      --hover-fill-color: #FFFFFF;\n",
              "      --disabled-bg-color: #3B4455;\n",
              "      --disabled-fill-color: #666;\n",
              "  }\n",
              "\n",
              "  .colab-df-quickchart {\n",
              "    background-color: var(--bg-color);\n",
              "    border: none;\n",
              "    border-radius: 50%;\n",
              "    cursor: pointer;\n",
              "    display: none;\n",
              "    fill: var(--fill-color);\n",
              "    height: 32px;\n",
              "    padding: 0;\n",
              "    width: 32px;\n",
              "  }\n",
              "\n",
              "  .colab-df-quickchart:hover {\n",
              "    background-color: var(--hover-bg-color);\n",
              "    box-shadow: 0 1px 2px rgba(60, 64, 67, 0.3), 0 1px 3px 1px rgba(60, 64, 67, 0.15);\n",
              "    fill: var(--button-hover-fill-color);\n",
              "  }\n",
              "\n",
              "  .colab-df-quickchart-complete:disabled,\n",
              "  .colab-df-quickchart-complete:disabled:hover {\n",
              "    background-color: var(--disabled-bg-color);\n",
              "    fill: var(--disabled-fill-color);\n",
              "    box-shadow: none;\n",
              "  }\n",
              "\n",
              "  .colab-df-spinner {\n",
              "    border: 2px solid var(--fill-color);\n",
              "    border-color: transparent;\n",
              "    border-bottom-color: var(--fill-color);\n",
              "    animation:\n",
              "      spin 1s steps(1) infinite;\n",
              "  }\n",
              "\n",
              "  @keyframes spin {\n",
              "    0% {\n",
              "      border-color: transparent;\n",
              "      border-bottom-color: var(--fill-color);\n",
              "      border-left-color: var(--fill-color);\n",
              "    }\n",
              "    20% {\n",
              "      border-color: transparent;\n",
              "      border-left-color: var(--fill-color);\n",
              "      border-top-color: var(--fill-color);\n",
              "    }\n",
              "    30% {\n",
              "      border-color: transparent;\n",
              "      border-left-color: var(--fill-color);\n",
              "      border-top-color: var(--fill-color);\n",
              "      border-right-color: var(--fill-color);\n",
              "    }\n",
              "    40% {\n",
              "      border-color: transparent;\n",
              "      border-right-color: var(--fill-color);\n",
              "      border-top-color: var(--fill-color);\n",
              "    }\n",
              "    60% {\n",
              "      border-color: transparent;\n",
              "      border-right-color: var(--fill-color);\n",
              "    }\n",
              "    80% {\n",
              "      border-color: transparent;\n",
              "      border-right-color: var(--fill-color);\n",
              "      border-bottom-color: var(--fill-color);\n",
              "    }\n",
              "    90% {\n",
              "      border-color: transparent;\n",
              "      border-bottom-color: var(--fill-color);\n",
              "    }\n",
              "  }\n",
              "</style>\n",
              "\n",
              "      <script>\n",
              "        async function quickchart(key) {\n",
              "          const quickchartButtonEl =\n",
              "            document.querySelector('#' + key + ' button');\n",
              "          quickchartButtonEl.disabled = true;  // To prevent multiple clicks.\n",
              "          quickchartButtonEl.classList.add('colab-df-spinner');\n",
              "          try {\n",
              "            const charts = await google.colab.kernel.invokeFunction(\n",
              "                'suggestCharts', [key], {});\n",
              "          } catch (error) {\n",
              "            console.error('Error during call to suggestCharts:', error);\n",
              "          }\n",
              "          quickchartButtonEl.classList.remove('colab-df-spinner');\n",
              "          quickchartButtonEl.classList.add('colab-df-quickchart-complete');\n",
              "        }\n",
              "        (() => {\n",
              "          let quickchartButtonEl =\n",
              "            document.querySelector('#df-bdf1eb93-7f72-4703-a270-4fd342a5a835 button');\n",
              "          quickchartButtonEl.style.display =\n",
              "            google.colab.kernel.accessAllowed ? 'block' : 'none';\n",
              "        })();\n",
              "      </script>\n",
              "    </div>\n",
              "\n",
              "  <div id=\"id_e1c416d6-f957-4927-9f3c-c99e39ca3452\">\n",
              "    <style>\n",
              "      .colab-df-generate {\n",
              "        background-color: #E8F0FE;\n",
              "        border: none;\n",
              "        border-radius: 50%;\n",
              "        cursor: pointer;\n",
              "        display: none;\n",
              "        fill: #1967D2;\n",
              "        height: 32px;\n",
              "        padding: 0 0 0 0;\n",
              "        width: 32px;\n",
              "      }\n",
              "\n",
              "      .colab-df-generate:hover {\n",
              "        background-color: #E2EBFA;\n",
              "        box-shadow: 0px 1px 2px rgba(60, 64, 67, 0.3), 0px 1px 3px 1px rgba(60, 64, 67, 0.15);\n",
              "        fill: #174EA6;\n",
              "      }\n",
              "\n",
              "      [theme=dark] .colab-df-generate {\n",
              "        background-color: #3B4455;\n",
              "        fill: #D2E3FC;\n",
              "      }\n",
              "\n",
              "      [theme=dark] .colab-df-generate:hover {\n",
              "        background-color: #434B5C;\n",
              "        box-shadow: 0px 1px 3px 1px rgba(0, 0, 0, 0.15);\n",
              "        filter: drop-shadow(0px 1px 2px rgba(0, 0, 0, 0.3));\n",
              "        fill: #FFFFFF;\n",
              "      }\n",
              "    </style>\n",
              "    <button class=\"colab-df-generate\" onclick=\"generateWithVariable('compare_results')\"\n",
              "            title=\"Generate code using this dataframe.\"\n",
              "            style=\"display:none;\">\n",
              "\n",
              "  <svg xmlns=\"http://www.w3.org/2000/svg\" height=\"24px\"viewBox=\"0 0 24 24\"\n",
              "       width=\"24px\">\n",
              "    <path d=\"M7,19H8.4L18.45,9,17,7.55,7,17.6ZM5,21V16.75L18.45,3.32a2,2,0,0,1,2.83,0l1.4,1.43a1.91,1.91,0,0,1,.58,1.4,1.91,1.91,0,0,1-.58,1.4L9.25,21ZM18.45,9,17,7.55Zm-12,3A5.31,5.31,0,0,0,4.9,8.1,5.31,5.31,0,0,0,1,6.5,5.31,5.31,0,0,0,4.9,4.9,5.31,5.31,0,0,0,6.5,1,5.31,5.31,0,0,0,8.1,4.9,5.31,5.31,0,0,0,12,6.5,5.46,5.46,0,0,0,6.5,12Z\"/>\n",
              "  </svg>\n",
              "    </button>\n",
              "    <script>\n",
              "      (() => {\n",
              "      const buttonEl =\n",
              "        document.querySelector('#id_e1c416d6-f957-4927-9f3c-c99e39ca3452 button.colab-df-generate');\n",
              "      buttonEl.style.display =\n",
              "        google.colab.kernel.accessAllowed ? 'block' : 'none';\n",
              "\n",
              "      buttonEl.onclick = () => {\n",
              "        google.colab.notebook.generateWithVariable('compare_results');\n",
              "      }\n",
              "      })();\n",
              "    </script>\n",
              "  </div>\n",
              "\n",
              "    </div>\n",
              "  </div>\n"
            ],
            "application/vnd.google.colaboratory.intrinsic+json": {
              "type": "dataframe",
              "variable_name": "compare_results",
              "summary": "{\n  \"name\": \"compare_results\",\n  \"rows\": 3,\n  \"fields\": [\n    {\n      \"column\": \"model_name\",\n      \"properties\": {\n        \"dtype\": \"string\",\n        \"num_unique_values\": 3,\n        \"samples\": [\n          \"FashionMNISTModel\",\n          \"FashionMNISTModelNonLinear\",\n          \"FashionMNISTModelCNN\"\n        ],\n        \"semantic_type\": \"\",\n        \"description\": \"\"\n      }\n    },\n    {\n      \"column\": \"model_acc\",\n      \"properties\": {\n        \"dtype\": \"string\",\n        \"num_unique_values\": 3,\n        \"samples\": [\n          \"83.446486\",\n          \"83.426518\",\n          \"88.428514\"\n        ],\n        \"semantic_type\": \"\",\n        \"description\": \"\"\n      }\n    },\n    {\n      \"column\": \"model_loss\",\n      \"properties\": {\n        \"dtype\": \"string\",\n        \"num_unique_values\": 3,\n        \"samples\": [\n          \"0.4791\",\n          \"0.4633\",\n          \"0.3114\"\n        ],\n        \"semantic_type\": \"\",\n        \"description\": \"\"\n      }\n    }\n  ]\n}"
            }
          },
          "metadata": {},
          "execution_count": 97
        }
      ]
    },
    {
      "cell_type": "code",
      "source": [
        "compare_results[\"model_acc\"] = pd.to_numeric(compare_results[\"model_acc\"], errors='coerce')\n",
        "compare_results.set_index(\"model_name\")[\"model_acc\"].plot(kind=\"barh\")\n",
        "\n",
        "plt.xlabel(\"Accuracy (%)\")\n",
        "plt.ylabel(\"Model\")\n",
        "plt.title(\"Model Accuracy Comparison\")\n",
        "plt.show()"
      ],
      "metadata": {
        "colab": {
          "base_uri": "https://localhost:8080/",
          "height": 472
        },
        "id": "t16Bf5N0rTuE",
        "outputId": "7d3dcc6c-7b06-4bce-e20d-28008ea4e90a"
      },
      "execution_count": null,
      "outputs": [
        {
          "output_type": "display_data",
          "data": {
            "text/plain": [
              "<Figure size 640x480 with 1 Axes>"
            ],
            "image/png": "[encoded data removed]"
          },
          "metadata": {}
        }
      ]
    },
    {
      "cell_type": "markdown",
      "source": [
        "### Making predictions"
      ],
      "metadata": {
        "id": "IF6vGdxMtob3"
      }
    },
    {
      "cell_type": "code",
      "source": [
        "import random\n",
        "random.seed(42)\n",
        "test_samples = []\n",
        "test_labels = []\n",
        "for sample, label in random.sample(list(test_data), k=9):\n",
        "  test_samples.append(sample)\n",
        "  test_labels.append(label)\n",
        "test_labels"
      ],
      "metadata": {
        "colab": {
          "base_uri": "https://localhost:8080/"
        },
        "id": "9hapabZSraDL",
        "outputId": "f7fdeb80-2f3e-4468-ce4f-c51eb63f8446"
      },
      "execution_count": null,
      "outputs": [
        {
          "output_type": "execute_result",
          "data": {
            "text/plain": [
              "[5, 1, 7, 4, 3, 0, 4, 7, 1]"
            ]
          },
          "metadata": {},
          "execution_count": 81
        }
      ]
    },
    {
      "cell_type": "code",
      "source": [
        "def simple_eval_model_on_data(model:nn.Module, data:list[torch.tensor]):\n",
        "  result = []\n",
        "  with torch.inference_mode():\n",
        "    for image in data:\n",
        "      result.append(torch.argmax(model(image.unsqueeze(0))).item())\n",
        "  return result"
      ],
      "metadata": {
        "id": "jDa3_h4Qdvdu"
      },
      "execution_count": null,
      "outputs": []
    },
    {
      "cell_type": "code",
      "source": [
        "evaluation_results = simple_eval_model_on_data(model_2, test_samples)\n",
        "evaluation_results"
      ],
      "metadata": {
        "colab": {
          "base_uri": "https://localhost:8080/"
        },
        "id": "0dI9pizXd6si",
        "outputId": "698f64d0-cc37-4d23-cef1-a4f19de0c80b"
      },
      "execution_count": null,
      "outputs": [
        {
          "output_type": "execute_result",
          "data": {
            "text/plain": [
              "[5, 1, 7, 4, 3, 0, 4, 7, 1]"
            ]
          },
          "metadata": {},
          "execution_count": 83
        }
      ]
    },
    {
      "cell_type": "code",
      "source": [
        "def simple_eval_model_on_data2(model:nn.Module, data:list[torch.tensor], class_names:list):\n",
        "  result = []\n",
        "  with torch.inference_mode():\n",
        "    for image in data:\n",
        "      processed = model(image.unsqueeze(0))#.squeeze()\n",
        "      selected = torch.argmax(processed.squeeze()).item()\n",
        "      max_probability = nn.functional.softmax(processed, dim=1).squeeze()[selected]* 100\n",
        "      label = class_names[selected]\n",
        "      result.append(f\"{label} - {max_probability:.2f}%\")\n",
        "  return result"
      ],
      "metadata": {
        "id": "pgYnZCU-nGFR"
      },
      "execution_count": null,
      "outputs": []
    },
    {
      "cell_type": "code",
      "source": [
        "evaluation_results2 = simple_eval_model_on_data2(model_2, test_samples, class_names)\n",
        "evaluation_results2"
      ],
      "metadata": {
        "colab": {
          "base_uri": "https://localhost:8080/"
        },
        "id": "HDnHGTOcqG_V",
        "outputId": "241db649-ce43-4d3d-8c0f-3ac89a300233"
      },
      "execution_count": null,
      "outputs": [
        {
          "output_type": "execute_result",
          "data": {
            "text/plain": [
              "['Sandal - 99.97%',\n",
              " 'Trouser - 74.39%',\n",
              " 'Sneaker - 90.07%',\n",
              " 'Coat - 65.96%',\n",
              " 'Dress - 81.30%',\n",
              " 'T-shirt/top - 76.88%',\n",
              " 'Coat - 95.34%',\n",
              " 'Sneaker - 98.84%',\n",
              " 'Trouser - 99.98%']"
            ]
          },
          "metadata": {},
          "execution_count": 85
        }
      ]
    },
    {
      "cell_type": "code",
      "source": [
        "plt.figure(figsize=(9,9))\n",
        "nrows=3\n",
        "ncols=3\n",
        "for i, sample in enumerate(test_samples):\n",
        "  plt.subplot(nrows, ncols, i+1)\n",
        "  plt.imshow(sample.squeeze(), cmap=\"gray\")\n",
        "  plt.title(evaluation_results2[i] if test_labels[i] == evaluation_results[i] else f\"{class_names[test_labels[i]]} Vs {class_names[evaluation_results[i]]}\")\n",
        "  plt.axis(False)\n",
        "  aux = eval_model_on_image_simple(model_2, test_image_selected, class_names)"
      ],
      "metadata": {
        "colab": {
          "base_uri": "https://localhost:8080/",
          "height": 752
        },
        "id": "EaGD-n5Dg_oJ",
        "outputId": "cdf7a95f-f354-401f-bb27-e7cfc0dab7c7"
      },
      "execution_count": null,
      "outputs": [
        {
          "output_type": "display_data",
          "data": {
            "text/plain": [
              "<Figure size 900x900 with 9 Axes>"
            ],
            "image/png": "[encoded data removed]"
          },
          "metadata": {}
        }
      ]
    },
    {
      "cell_type": "code",
      "source": [
        "plt.figure(figsize=(9,9))\n",
        "nrows=3\n",
        "ncols=3\n",
        "for i, sample in enumerate(test_samples):\n",
        "  plt.subplot(nrows, ncols, i+1)\n",
        "  plt.imshow(sample.squeeze())\n",
        "  plt.axis(False)\n",
        "\n",
        "  result = eval_model_on_image_simple(model_2, sample.unsqueeze(0), class_names)\n",
        "  if result[\"index\"] == test_labels[i]:\n",
        "    plt.title(result[\"text\"], c=\"g\")\n",
        "  else:\n",
        "    plt.title(f\"{class_names[test_labels[i]]} Vs {result['text']}\", c=\"r\")"
      ],
      "metadata": {
        "colab": {
          "base_uri": "https://localhost:8080/",
          "height": 752
        },
        "id": "Aev7j1Wef1FW",
        "outputId": "96770c5a-7981-4ee4-da05-04e2127286da"
      },
      "execution_count": null,
      "outputs": [
        {
          "output_type": "display_data",
          "data": {
            "text/plain": [
              "<Figure size 900x900 with 9 Axes>"
            ],
            "image/png": "[encoded data removed]"
          },
          "metadata": {}
        }
      ]
    },
    {
      "cell_type": "markdown",
      "source": [
        "### Confusion Matrix"
      ],
      "metadata": {
        "id": "-tdTs2xwL4FT"
      }
    },
    {
      "cell_type": "code",
      "source": [
        "y_preds = []\n",
        "model_2.eval()\n",
        "with torch.inference_mode():\n",
        "  for X, y in tqdm(test_dataloader, desc=\"Generating predictions\"):\n",
        "    X, y = X.to(available_device), y.to(available_device)\n",
        "    y_logit = model_2(X)\n",
        "    y_pred = torch.softmax(y_logit, dim=1).argmax(dim=1)\n",
        "    y_preds.append(y_pred.cpu())\n",
        "y_pred_tensor = torch.cat(y_preds)"
      ],
      "metadata": {
        "id": "ASZi5bYkzNrD",
        "colab": {
          "base_uri": "https://localhost:8080/",
          "height": 49,
          "referenced_widgets": [
            "3e42753b906e42f09656fb6124a33b76",
            "68ef2a0ea8684a9580f7442d0d2ec3d2",
            "85a200f4d09649e3806d8b576f11ef3e",
            "bfe061ce6ffc4a4f8bcd3ac4f0201361",
            "1b760709ffe94c748602878a5fdc8eb8",
            "3a186887cb5d408382a65218d0a5c8c5",
            "450b628106274bce9c8ae5eb05893350",
            "1faf2ea0b4fc4a369749d73c2dc2ba6b",
            "6e4ef805f2b44357b3ba5d89b224f985",
            "51f83c5a53de4aacb6d795dff00ec424",
            "682c27a299cf4233b252f30b0825a730"
          ]
        },
        "outputId": "c9aa16ec-fe66-4e8f-a84a-1a20fa113287"
      },
      "execution_count": null,
      "outputs": [
        {
          "output_type": "display_data",
          "data": {
            "text/plain": [
              "Generating predictions:   0%|          | 0/313 [00:00<?, ?it/s]"
            ],
            "application/vnd.jupyter.widget-view+json": {
              "version_major": 2,
              "version_minor": 0,
              "model_id": "3e42753b906e42f09656fb6124a33b76"
            }
          },
          "metadata": {}
        }
      ]
    },
    {
      "cell_type": "code",
      "source": [
        "try:\n",
        "  import torchmetrics, mlxtend\n",
        "except:\n",
        "  !pip install -q torchmetrics -U mlxtend"
      ],
      "metadata": {
        "colab": {
          "base_uri": "https://localhost:8080/"
        },
        "id": "g9yzk3Y5NYFn",
        "outputId": "d591347c-75ab-4155-ddfb-7e51c3b32980"
      },
      "execution_count": null,
      "outputs": [
        {
          "output_type": "stream",
          "name": "stdout",
          "text": [
            "\u001b[2K   \u001b[90m━━━━━━━━━━━━━━━━━━━━━━━━━━━━━━━━━━━━━━━━\u001b[0m \u001b[32m962.5/962.5 kB\u001b[0m \u001b[31m26.5 MB/s\u001b[0m eta \u001b[36m0:00:00\u001b[0m\n",
            "\u001b[2K   \u001b[90m━━━━━━━━━━━━━━━━━━━━━━━━━━━━━━━━━━━━━━━━\u001b[0m \u001b[32m363.4/363.4 MB\u001b[0m \u001b[31m4.7 MB/s\u001b[0m eta \u001b[36m0:00:00\u001b[0m\n",
            "\u001b[2K   \u001b[90m━━━━━━━━━━━━━━━━━━━━━━━━━━━━━━━━━━━━━━━━\u001b[0m \u001b[32m13.8/13.8 MB\u001b[0m \u001b[31m92.5 MB/s\u001b[0m eta \u001b[36m0:00:00\u001b[0m\n",
            "\u001b[2K   \u001b[90m━━━━━━━━━━━━━━━━━━━━━━━━━━━━━━━━━━━━━━━━\u001b[0m \u001b[32m24.6/24.6 MB\u001b[0m \u001b[31m63.3 MB/s\u001b[0m eta \u001b[36m0:00:00\u001b[0m\n",
            "\u001b[2K   \u001b[90m━━━━━━━━━━━━━━━━━━━━━━━━━━━━━━━━━━━━━━━━\u001b[0m \u001b[32m883.7/883.7 kB\u001b[0m \u001b[31m38.4 MB/s\u001b[0m eta \u001b[36m0:00:00\u001b[0m\n",
            "\u001b[2K   \u001b[90m━━━━━━━━━━━━━━━━━━━━━━━━━━━━━━━━━━━━━━━\u001b[0m \u001b[32m664.8/664.8 MB\u001b[0m \u001b[31m827.6 kB/s\u001b[0m eta \u001b[36m0:00:00\u001b[0m\n",
            "\u001b[2K   \u001b[90m━━━━━━━━━━━━━━━━━━━━━━━━━━━━━━━━━━━━━━━━\u001b[0m \u001b[32m211.5/211.5 MB\u001b[0m \u001b[31m2.5 MB/s\u001b[0m eta \u001b[36m0:00:00\u001b[0m\n",
            "\u001b[2K   \u001b[90m━━━━━━━━━━━━━━━━━━━━━━━━━━━━━━━━━━━━━━━━\u001b[0m \u001b[32m56.3/56.3 MB\u001b[0m \u001b[31m13.8 MB/s\u001b[0m eta \u001b[36m0:00:00\u001b[0m\n",
            "\u001b[2K   \u001b[90m━━━━━━━━━━━━━━━━━━━━━━━━━━━━━━━━━━━━━━━━\u001b[0m \u001b[32m127.9/127.9 MB\u001b[0m \u001b[31m8.0 MB/s\u001b[0m eta \u001b[36m0:00:00\u001b[0m\n",
            "\u001b[2K   \u001b[90m━━━━━━━━━━━━━━━━━━━━━━━━━━━━━━━━━━━━━━━━\u001b[0m \u001b[32m207.5/207.5 MB\u001b[0m \u001b[31m5.6 MB/s\u001b[0m eta \u001b[36m0:00:00\u001b[0m\n",
            "\u001b[2K   \u001b[90m━━━━━━━━━━━━━━━━━━━━━━━━━━━━━━━━━━━━━━━━\u001b[0m \u001b[32m21.1/21.1 MB\u001b[0m \u001b[31m58.8 MB/s\u001b[0m eta \u001b[36m0:00:00\u001b[0m\n",
            "\u001b[?25h"
          ]
        }
      ]
    },
    {
      "cell_type": "code",
      "source": [
        "from torchmetrics import ConfusionMatrix\n",
        "from mlxtend.plotting import plot_confusion_matrix\n",
        "\n",
        "confmat = ConfusionMatrix(num_classes=len(class_names), task='multiclass')\n",
        "confmat_tensor = confmat(preds=y_pred_tensor,\n",
        "                         target=test_data.targets)\n",
        "\n",
        "fig, ax = plot_confusion_matrix(\n",
        "    conf_mat=confmat_tensor.numpy(),\n",
        "    class_names=class_names,\n",
        "    figsize=(10, 7)\n",
        ");"
      ],
      "metadata": {
        "colab": {
          "base_uri": "https://localhost:8080/",
          "height": 667
        },
        "id": "YRKWjbJJMLu2",
        "outputId": "85e08d4d-5e26-4d99-993c-f1a354395e56"
      },
      "execution_count": null,
      "outputs": [
        {
          "output_type": "display_data",
          "data": {
            "text/plain": [
              "<Figure size 1000x700 with 1 Axes>"
            ],
            "image/png": "[encoded data removed]"
          },
          "metadata": {}
        }
      ]
    },
    {
      "cell_type": "code",
      "source": [
        "# The sandal had the highest accuracy, correctly predicted 978 times out of 1000, and misclassified only 22 times.\n",
        "# The shirt had the lowest accuracy, correctly predicted 644 times out of 1000, and misclassified only 356 times."
      ],
      "metadata": {
        "id": "2cPooC1rMxKr"
      },
      "execution_count": null,
      "outputs": []
    },
    {
      "cell_type": "markdown",
      "source": [
        "### Save and Load"
      ],
      "metadata": {
        "id": "enYI5y3EJx1z"
      }
    },
    {
      "cell_type": "code",
      "source": [
        "from pathlib import Path\n",
        "\n",
        "MODEL_PATH = Path(\"models\")\n",
        "MODEL_PATH.mkdir(parents=True, exist_ok=True)\n",
        "MODEL_NAME = \"pytorch_computer_vision_model_2.pth\"\n",
        "MODEL_SAVE_PATH = MODEL_PATH / MODEL_NAME\n",
        "\n",
        "torch.save(model_2.state_dict(), MODEL_SAVE_PATH)"
      ],
      "metadata": {
        "id": "6jUITZq2JxEd"
      },
      "execution_count": null,
      "outputs": []
    },
    {
      "cell_type": "code",
      "source": [
        "# It is very important to use the same input parameters to create the model as we did the first time (input_shape, hidden_unit, output_shape)\n",
        "loaded_model_2 = FashionMNISTModelCNN(input_shape=1,\n",
        "                                      hidden_unit=10,\n",
        "                                      output_shape=len(class_names)).to(available_device)\n",
        "\n",
        "loaded_model_2.load_state_dict(torch.load(f=MODEL_SAVE_PATH))"
      ],
      "metadata": {
        "colab": {
          "base_uri": "https://localhost:8080/"
        },
        "id": "TftMdHsjP33u",
        "outputId": "132fdd37-df3c-482a-cf4c-5f9550e4b552"
      },
      "execution_count": null,
      "outputs": [
        {
          "output_type": "execute_result",
          "data": {
            "text/plain": [
              "<All keys matched successfully>"
            ]
          },
          "metadata": {},
          "execution_count": 94
        }
      ]
    },
    {
      "cell_type": "code",
      "source": [
        "torch.manual_seed(42)\n",
        "loaded_model_2_results = eval_model(\n",
        "    loaded_model_2,\n",
        "    test_dataloader,\n",
        "    loss_fn,\n",
        "    accuracy_fn\n",
        ")\n",
        "loaded_model_2_results"
      ],
      "metadata": {
        "colab": {
          "base_uri": "https://localhost:8080/",
          "height": 101,
          "referenced_widgets": [
            "5886d191585144fe9de7b901401299e6",
            "8100407188d041a4821b8c4d93a57aa1",
            "e6f9ff28d4874dd4a524a52f6fb4437a",
            "4771a7ce1df0462a9a6bf97edd40bc80",
            "6359b0ecfad746fb97c50b50b02ead54",
            "874dddc1c7c24fdc875820a68133eec4",
            "3a630599eed5403881d3ecaac6153d01",
            "8fba525064cb4998994b66424c1a1171",
            "7259e58ab7b2419e9a954afd184d60f6",
            "30300931490849f498d3ec042aceff5c",
            "92720258d7064980b9bef9243a76fbd7"
          ]
        },
        "id": "gUglOUNDRJzT",
        "outputId": "df8ddca2-abe4-4b0e-be5d-4cc7de2904d1"
      },
      "execution_count": null,
      "outputs": [
        {
          "output_type": "display_data",
          "data": {
            "text/plain": [
              "  0%|          | 0/313 [00:00<?, ?it/s]"
            ],
            "application/vnd.jupyter.widget-view+json": {
              "version_major": 2,
              "version_minor": 0,
              "model_id": "5886d191585144fe9de7b901401299e6"
            }
          },
          "metadata": {}
        },
        {
          "output_type": "execute_result",
          "data": {
            "text/plain": [
              "{'model_name': 'FashionMNISTModelCNN',\n",
              " 'model_acc': '88.428514',\n",
              " 'model_loss': '0.3114'}"
            ]
          },
          "metadata": {},
          "execution_count": 95
        }
      ]
    },
    {
      "cell_type": "code",
      "source": [
        "model_2_results"
      ],
      "metadata": {
        "colab": {
          "base_uri": "https://localhost:8080/"
        },
        "id": "_Qe9HZvNRmAi",
        "outputId": "66ff5ba7-234e-4ca4-b7ad-82739f078174"
      },
      "execution_count": null,
      "outputs": [
        {
          "output_type": "execute_result",
          "data": {
            "text/plain": [
              "{'model_name': 'FashionMNISTModelCNN',\n",
              " 'model_acc': '88.428514',\n",
              " 'model_loss': '0.3114'}"
            ]
          },
          "metadata": {},
          "execution_count": 98
        }
      ]
    },
    {
      "cell_type": "code",
      "source": [],
      "metadata": {
        "id": "HF_xF_afR8w-"
      },
      "execution_count": null,
      "outputs": []
    }
  ]
}